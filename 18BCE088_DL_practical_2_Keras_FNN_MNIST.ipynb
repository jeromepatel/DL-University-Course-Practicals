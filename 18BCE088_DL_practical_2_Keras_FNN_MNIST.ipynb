{
  "nbformat": 4,
  "nbformat_minor": 0,
  "metadata": {
    "colab": {
      "name": "18BCE088_DL_practical_2_Keras_FNN_MNIST.ipynb",
      "provenance": [],
      "collapsed_sections": [],
      "authorship_tag": "ABX9TyPlM02KhXFNBYI22Cg5X3pe",
      "include_colab_link": true
    },
    "kernelspec": {
      "name": "python3",
      "display_name": "Python 3"
    }
  },
  "cells": [
    {
      "cell_type": "markdown",
      "metadata": {
        "id": "view-in-github",
        "colab_type": "text"
      },
      "source": [
        "<a href=\"https://colab.research.google.com/github/jeromepatel/DL-University-Course-Practicals/blob/master/18BCE088_DL_practical_2_Keras_FNN_MNIST.ipynb\" target=\"_parent\"><img src=\"https://colab.research.google.com/assets/colab-badge.svg\" alt=\"Open In Colab\"/></a>"
      ]
    },
    {
      "cell_type": "code",
      "metadata": {
        "id": "APkzikOPz01t"
      },
      "source": [
        "\r\n",
        "#importing libraries\r\n",
        "from keras.datasets.mnist import load_data\r\n",
        "from matplotlib import pyplot\r\n",
        "from tensorflow import keras\r\n",
        "from sklearn.metrics import accuracy_score,confusion_matrix,classification_report\r\n",
        "from keras.models import Sequential\r\n",
        "from keras.layers import Dense, Dropout, Flatten\r\n",
        "from keras.layers import Conv2D, MaxPooling2D\r\n",
        "from keras import backend as K\r\n",
        "from tensorflow.keras.optimizers import Adam\r\n",
        "import numpy as np\r\n",
        "batch_size = 128\r\n",
        "num_classes = 10\r\n",
        "epochs = 12\r\n"
      ],
      "execution_count": null,
      "outputs": []
    },
    {
      "cell_type": "code",
      "metadata": {
        "colab": {
          "base_uri": "https://localhost:8080/"
        },
        "id": "Y_-E88WA0Vrq",
        "outputId": "47d022fa-e961-4f86-9d98-7ad590d0244e"
      },
      "source": [
        "(X_train, Y_train), (X_test, Y_test) = load_data()\r\n",
        "X_train.shape, X_test.shape"
      ],
      "execution_count": null,
      "outputs": [
        {
          "output_type": "stream",
          "text": [
            "Downloading data from https://storage.googleapis.com/tensorflow/tf-keras-datasets/mnist.npz\n",
            "11493376/11490434 [==============================] - 0s 0us/step\n"
          ],
          "name": "stdout"
        },
        {
          "output_type": "execute_result",
          "data": {
            "text/plain": [
              "((60000, 28, 28), (10000, 28, 28))"
            ]
          },
          "metadata": {
            "tags": []
          },
          "execution_count": 2
        }
      ]
    },
    {
      "cell_type": "code",
      "metadata": {
        "colab": {
          "base_uri": "https://localhost:8080/"
        },
        "id": "L5ZJXZqo0WcD",
        "outputId": "56624658-b74c-4661-fc06-5e1ed9eb7095"
      },
      "source": [
        "#reshaping to training and test set for sequential input \r\n",
        "X_train = X_train.reshape(X_train.shape[0], X_train.shape[1] * X_train.shape[2])\r\n",
        "\r\n",
        "X_test = X_test.reshape(X_test.shape[0], X_test.shape[1] * X_test.shape[2])\r\n",
        "X_train.shape, X_test.shape"
      ],
      "execution_count": null,
      "outputs": [
        {
          "output_type": "execute_result",
          "data": {
            "text/plain": [
              "((60000, 784), (10000, 784))"
            ]
          },
          "metadata": {
            "tags": []
          },
          "execution_count": 3
        }
      ]
    },
    {
      "cell_type": "code",
      "metadata": {
        "id": "-P7Lj2tZ048P"
      },
      "source": [
        "\r\n",
        "X_train = X_train/255   #in range (0,1) now \r\n",
        "X_test = X_test/255"
      ],
      "execution_count": null,
      "outputs": []
    },
    {
      "cell_type": "code",
      "metadata": {
        "id": "WjyqSSl-07L1"
      },
      "source": [
        "model = Sequential([\r\n",
        "    Dense(392, input_shape = (784,), activation = 'relu'),\r\n",
        "    #Dense(50,activation= 'relu'),\r\n",
        "])\r\n",
        "model.add(Dense(10,activation = 'sigmoid'))"
      ],
      "execution_count": null,
      "outputs": []
    },
    {
      "cell_type": "code",
      "metadata": {
        "id": "32LvPMzB1HIo"
      },
      "source": [
        "model.compile(Adam(lr = 0.003),\r\n",
        "              loss = 'sparse_categorical_crossentropy',\r\n",
        "              metrics = ['accuracy'])"
      ],
      "execution_count": null,
      "outputs": []
    },
    {
      "cell_type": "code",
      "metadata": {
        "colab": {
          "base_uri": "https://localhost:8080/"
        },
        "id": "q50njXdb1Kxj",
        "outputId": "1e467f7d-cc35-451e-bb3c-53776acd5e2d"
      },
      "source": [
        "model.fit(\r\n",
        "X_train,\r\n",
        "    Y_train,\r\n",
        "    batch_size = batch_size,\r\n",
        "    epochs = epochs,\r\n",
        "    shuffle = True,\r\n",
        "    verbose = 1\r\n",
        ")"
      ],
      "execution_count": null,
      "outputs": [
        {
          "output_type": "stream",
          "text": [
            "Epoch 1/12\n",
            "469/469 [==============================] - 3s 6ms/step - loss: 0.3559 - accuracy: 0.8914\n",
            "Epoch 2/12\n",
            "469/469 [==============================] - 3s 6ms/step - loss: 0.0809 - accuracy: 0.9755\n",
            "Epoch 3/12\n",
            "469/469 [==============================] - 3s 6ms/step - loss: 0.0515 - accuracy: 0.9841\n",
            "Epoch 4/12\n",
            "469/469 [==============================] - 3s 6ms/step - loss: 0.0380 - accuracy: 0.9880\n",
            "Epoch 5/12\n",
            "469/469 [==============================] - 3s 6ms/step - loss: 0.0263 - accuracy: 0.9919\n",
            "Epoch 6/12\n",
            "469/469 [==============================] - 3s 6ms/step - loss: 0.0222 - accuracy: 0.9926\n",
            "Epoch 7/12\n",
            "469/469 [==============================] - 3s 6ms/step - loss: 0.0206 - accuracy: 0.9931\n",
            "Epoch 8/12\n",
            "469/469 [==============================] - 3s 6ms/step - loss: 0.0175 - accuracy: 0.9940\n",
            "Epoch 9/12\n",
            "469/469 [==============================] - 3s 6ms/step - loss: 0.0133 - accuracy: 0.9955\n",
            "Epoch 10/12\n",
            "469/469 [==============================] - 3s 6ms/step - loss: 0.0166 - accuracy: 0.9950\n",
            "Epoch 11/12\n",
            "469/469 [==============================] - 3s 6ms/step - loss: 0.0112 - accuracy: 0.9959\n",
            "Epoch 12/12\n",
            "469/469 [==============================] - 3s 6ms/step - loss: 0.0143 - accuracy: 0.9957\n"
          ],
          "name": "stdout"
        },
        {
          "output_type": "execute_result",
          "data": {
            "text/plain": [
              "<tensorflow.python.keras.callbacks.History at 0x7f7c59448e10>"
            ]
          },
          "metadata": {
            "tags": []
          },
          "execution_count": 19
        }
      ]
    },
    {
      "cell_type": "code",
      "metadata": {
        "colab": {
          "base_uri": "https://localhost:8080/"
        },
        "id": "ieeXkdaE1fBm",
        "outputId": "105e577c-c0a2-47ae-e4c5-16b26e9b5215"
      },
      "source": [
        "#prediction using test set\r\n",
        "score = model.evaluate(X_test, Y_test, verbose=0)\r\n",
        "print(f'accuracy score for the MNIST classification of the dataset is : {score[1]}')"
      ],
      "execution_count": null,
      "outputs": [
        {
          "output_type": "stream",
          "text": [
            "accuracy score for the MNIST classification of the dataset is : 0.980400025844574\n"
          ],
          "name": "stdout"
        }
      ]
    },
    {
      "cell_type": "code",
      "metadata": {
        "id": "uW5mYnnp1tW2"
      },
      "source": [
        ""
      ],
      "execution_count": null,
      "outputs": []
    }
  ]
}