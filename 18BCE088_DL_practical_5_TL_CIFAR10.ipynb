{
  "nbformat": 4,
  "nbformat_minor": 0,
  "metadata": {
    "colab": {
      "name": "18BCE088_DL_practical_5_TL_CIFAR10.ipynb",
      "provenance": [],
      "collapsed_sections": [],
      "authorship_tag": "ABX9TyMU9aJ9I1Hjb180GNgoTonP",
      "include_colab_link": true
    },
    "kernelspec": {
      "name": "python3",
      "display_name": "Python 3"
    },
    "accelerator": "GPU"
  },
  "cells": [
    {
      "cell_type": "markdown",
      "metadata": {
        "id": "view-in-github",
        "colab_type": "text"
      },
      "source": [
        "<a href=\"https://colab.research.google.com/github/jeromepatel/DL-University-Course-Practicals/blob/master/18BCE088_DL_practical_5_TL_CIFAR10.ipynb\" target=\"_parent\"><img src=\"https://colab.research.google.com/assets/colab-badge.svg\" alt=\"Open In Colab\"/></a>"
      ]
    },
    {
      "cell_type": "markdown",
      "metadata": {
        "id": "Ra2DPINYEgMW"
      },
      "source": [
        "# Practical 5 Transfer Learning on CIFAR10 using Xception Model"
      ]
    },
    {
      "cell_type": "code",
      "metadata": {
        "colab": {
          "base_uri": "https://localhost:8080/"
        },
        "id": "i639en4qDfRc",
        "outputId": "fc520ca6-36df-4df2-ce49-ccad78ad1144"
      },
      "source": [
        "!nvidia-smi"
      ],
      "execution_count": 1,
      "outputs": [
        {
          "output_type": "stream",
          "text": [
            "Mon Mar 22 08:45:00 2021       \n",
            "+-----------------------------------------------------------------------------+\n",
            "| NVIDIA-SMI 460.56       Driver Version: 460.32.03    CUDA Version: 11.2     |\n",
            "|-------------------------------+----------------------+----------------------+\n",
            "| GPU  Name        Persistence-M| Bus-Id        Disp.A | Volatile Uncorr. ECC |\n",
            "| Fan  Temp  Perf  Pwr:Usage/Cap|         Memory-Usage | GPU-Util  Compute M. |\n",
            "|                               |                      |               MIG M. |\n",
            "|===============================+======================+======================|\n",
            "|   0  Tesla K80           Off  | 00000000:00:04.0 Off |                    0 |\n",
            "| N/A   33C    P8    29W / 149W |      0MiB / 11441MiB |      0%      Default |\n",
            "|                               |                      |                  N/A |\n",
            "+-------------------------------+----------------------+----------------------+\n",
            "                                                                               \n",
            "+-----------------------------------------------------------------------------+\n",
            "| Processes:                                                                  |\n",
            "|  GPU   GI   CI        PID   Type   Process name                  GPU Memory |\n",
            "|        ID   ID                                                   Usage      |\n",
            "|=============================================================================|\n",
            "|  No running processes found                                                 |\n",
            "+-----------------------------------------------------------------------------+\n"
          ],
          "name": "stdout"
        }
      ]
    },
    {
      "cell_type": "markdown",
      "metadata": {
        "id": "dfj3fBVb1WYq"
      },
      "source": [
        "## Importing Libraries"
      ]
    },
    {
      "cell_type": "code",
      "metadata": {
        "id": "APkzikOPz01t"
      },
      "source": [
        "\n",
        "#importing libraries\n",
        "from keras.datasets.cifar10 import load_data\n",
        "# from matplotlib import pyplot\n",
        "from tensorflow import keras\n",
        "from sklearn.metrics import accuracy_score,confusion_matrix,classification_report\n",
        "from keras.models import Sequential\n",
        "from keras.layers import Dense, Dropout, Flatten\n",
        "from keras.layers import Conv2D, MaxPool2D, BatchNormalization ,GlobalAveragePooling2D\n",
        "from keras import backend as K\n",
        "#from keras.applications.inception_v3 import InceptionV3, preprocess_input\n",
        "from tensorflow.keras.applications.xception import Xception, preprocess_input\n",
        "import tensorflow as tf\n",
        "from tensorflow.keras.optimizers import Adam\n",
        "\n",
        "import numpy as np\n",
        "# batch_size = 512\n",
        "# num_classes = 10\n",
        "# epochs = 30\n"
      ],
      "execution_count": 2,
      "outputs": []
    },
    {
      "cell_type": "code",
      "metadata": {
        "colab": {
          "base_uri": "https://localhost:8080/",
          "height": 36
        },
        "id": "laiV5b0yFNe_",
        "outputId": "d8899772-9e25-4d0c-bb3b-4ac9f145e01c"
      },
      "source": [
        "tf.test.gpu_device_name()"
      ],
      "execution_count": 3,
      "outputs": [
        {
          "output_type": "execute_result",
          "data": {
            "application/vnd.google.colaboratory.intrinsic+json": {
              "type": "string"
            },
            "text/plain": [
              "'/device:GPU:0'"
            ]
          },
          "metadata": {
            "tags": []
          },
          "execution_count": 3
        }
      ]
    },
    {
      "cell_type": "code",
      "metadata": {
        "colab": {
          "base_uri": "https://localhost:8080/"
        },
        "id": "Y_-E88WA0Vrq",
        "outputId": "54064c53-efc4-43f2-c8eb-406611254726"
      },
      "source": [
        "(X_train_data, Y_train), (X_test_data, Y_test) = load_data()\n",
        "X_train_data.shape, X_test_data.shape"
      ],
      "execution_count": 4,
      "outputs": [
        {
          "output_type": "stream",
          "text": [
            "Downloading data from https://www.cs.toronto.edu/~kriz/cifar-10-python.tar.gz\n",
            "170500096/170498071 [==============================] - 11s 0us/step\n"
          ],
          "name": "stdout"
        },
        {
          "output_type": "execute_result",
          "data": {
            "text/plain": [
              "((50000, 32, 32, 3), (10000, 32, 32, 3))"
            ]
          },
          "metadata": {
            "tags": []
          },
          "execution_count": 4
        }
      ]
    },
    {
      "cell_type": "code",
      "metadata": {
        "id": "wdcbWgOtGryF"
      },
      "source": [
        "# X_train = X_train_data/255\n",
        "# X_test = X_test_data/255\n",
        "\n",
        "# del X_train_data, X_test_data"
      ],
      "execution_count": 5,
      "outputs": []
    },
    {
      "cell_type": "code",
      "metadata": {
        "colab": {
          "base_uri": "https://localhost:8080/"
        },
        "id": "wTkp-f2HQrY4",
        "outputId": "2d0bd18a-1011-4930-90dc-9a1ecc49f036"
      },
      "source": [
        "%%time\n",
        "import cv2\n",
        "rows = 71\n",
        "columns  = 71\n",
        "X_train_1 = np.array([cv2.resize(i, dsize=(rows, columns), interpolation=cv2.INTER_CUBIC) for i in X_train_data])\n",
        "X_train = preprocess_input(X_train_1)\n",
        "X_test_1 = np.array([cv2.resize(i, dsize=(rows, columns), interpolation=cv2.INTER_CUBIC) for i in X_test_data])\n",
        "X_test = preprocess_input(X_test_1)\n",
        "\n",
        "del X_train_data, X_test_data, X_train_1,X_test_1\n",
        "\n",
        "num_classes = 10\n",
        "img_rows, img_cols = 32, 32\n",
        "input_shape = (img_rows, img_cols, 3)\n",
        "y_train,y_test = Y_train,Y_test\n",
        "Y_train = tf.keras.utils.to_categorical(Y_train, num_classes)\n",
        "Y_test = tf.keras.utils.to_categorical(Y_test, num_classes)\n",
        "del y_test,y_train"
      ],
      "execution_count": 6,
      "outputs": [
        {
          "output_type": "stream",
          "text": [
            "CPU times: user 4.73 s, sys: 1.66 s, total: 6.38 s\n",
            "Wall time: 6.97 s\n"
          ],
          "name": "stdout"
        }
      ]
    },
    {
      "cell_type": "code",
      "metadata": {
        "colab": {
          "base_uri": "https://localhost:8080/"
        },
        "id": "8GhChJ7wRYbi",
        "outputId": "e2fde6d4-e49f-481d-cc8a-6ee16c7632a8"
      },
      "source": [
        "X_train.shape"
      ],
      "execution_count": 7,
      "outputs": [
        {
          "output_type": "execute_result",
          "data": {
            "text/plain": [
              "(50000, 71, 71, 3)"
            ]
          },
          "metadata": {
            "tags": []
          },
          "execution_count": 7
        }
      ]
    },
    {
      "cell_type": "code",
      "metadata": {
        "id": "BhznXyQXRXyM",
        "colab": {
          "base_uri": "https://localhost:8080/"
        },
        "outputId": "44c63139-29db-419b-b1d5-2db00e5469a6"
      },
      "source": [
        "base_model = Xception(include_top=False, weights='imagenet', input_shape=(rows, columns, 3), pooling=None)"
      ],
      "execution_count": 8,
      "outputs": [
        {
          "output_type": "stream",
          "text": [
            "Downloading data from https://storage.googleapis.com/tensorflow/keras-applications/xception/xception_weights_tf_dim_ordering_tf_kernels_notop.h5\n",
            "83689472/83683744 [==============================] - 2s 0us/step\n"
          ],
          "name": "stdout"
        }
      ]
    },
    {
      "cell_type": "code",
      "metadata": {
        "id": "gtiJ6AMQvFwL",
        "colab": {
          "base_uri": "https://localhost:8080/"
        },
        "outputId": "f9138329-1ec8-4dc3-c413-e7d8ee432d98"
      },
      "source": [
        "for layer in base_model.layers:\n",
        "    layer.trainable = False\n",
        "base_model.summary()"
      ],
      "execution_count": 9,
      "outputs": [
        {
          "output_type": "stream",
          "text": [
            "Model: \"xception\"\n",
            "__________________________________________________________________________________________________\n",
            "Layer (type)                    Output Shape         Param #     Connected to                     \n",
            "==================================================================================================\n",
            "input_1 (InputLayer)            [(None, 71, 71, 3)]  0                                            \n",
            "__________________________________________________________________________________________________\n",
            "block1_conv1 (Conv2D)           (None, 35, 35, 32)   864         input_1[0][0]                    \n",
            "__________________________________________________________________________________________________\n",
            "block1_conv1_bn (BatchNormaliza (None, 35, 35, 32)   128         block1_conv1[0][0]               \n",
            "__________________________________________________________________________________________________\n",
            "block1_conv1_act (Activation)   (None, 35, 35, 32)   0           block1_conv1_bn[0][0]            \n",
            "__________________________________________________________________________________________________\n",
            "block1_conv2 (Conv2D)           (None, 33, 33, 64)   18432       block1_conv1_act[0][0]           \n",
            "__________________________________________________________________________________________________\n",
            "block1_conv2_bn (BatchNormaliza (None, 33, 33, 64)   256         block1_conv2[0][0]               \n",
            "__________________________________________________________________________________________________\n",
            "block1_conv2_act (Activation)   (None, 33, 33, 64)   0           block1_conv2_bn[0][0]            \n",
            "__________________________________________________________________________________________________\n",
            "block2_sepconv1 (SeparableConv2 (None, 33, 33, 128)  8768        block1_conv2_act[0][0]           \n",
            "__________________________________________________________________________________________________\n",
            "block2_sepconv1_bn (BatchNormal (None, 33, 33, 128)  512         block2_sepconv1[0][0]            \n",
            "__________________________________________________________________________________________________\n",
            "block2_sepconv2_act (Activation (None, 33, 33, 128)  0           block2_sepconv1_bn[0][0]         \n",
            "__________________________________________________________________________________________________\n",
            "block2_sepconv2 (SeparableConv2 (None, 33, 33, 128)  17536       block2_sepconv2_act[0][0]        \n",
            "__________________________________________________________________________________________________\n",
            "block2_sepconv2_bn (BatchNormal (None, 33, 33, 128)  512         block2_sepconv2[0][0]            \n",
            "__________________________________________________________________________________________________\n",
            "conv2d (Conv2D)                 (None, 17, 17, 128)  8192        block1_conv2_act[0][0]           \n",
            "__________________________________________________________________________________________________\n",
            "block2_pool (MaxPooling2D)      (None, 17, 17, 128)  0           block2_sepconv2_bn[0][0]         \n",
            "__________________________________________________________________________________________________\n",
            "batch_normalization (BatchNorma (None, 17, 17, 128)  512         conv2d[0][0]                     \n",
            "__________________________________________________________________________________________________\n",
            "add (Add)                       (None, 17, 17, 128)  0           block2_pool[0][0]                \n",
            "                                                                 batch_normalization[0][0]        \n",
            "__________________________________________________________________________________________________\n",
            "block3_sepconv1_act (Activation (None, 17, 17, 128)  0           add[0][0]                        \n",
            "__________________________________________________________________________________________________\n",
            "block3_sepconv1 (SeparableConv2 (None, 17, 17, 256)  33920       block3_sepconv1_act[0][0]        \n",
            "__________________________________________________________________________________________________\n",
            "block3_sepconv1_bn (BatchNormal (None, 17, 17, 256)  1024        block3_sepconv1[0][0]            \n",
            "__________________________________________________________________________________________________\n",
            "block3_sepconv2_act (Activation (None, 17, 17, 256)  0           block3_sepconv1_bn[0][0]         \n",
            "__________________________________________________________________________________________________\n",
            "block3_sepconv2 (SeparableConv2 (None, 17, 17, 256)  67840       block3_sepconv2_act[0][0]        \n",
            "__________________________________________________________________________________________________\n",
            "block3_sepconv2_bn (BatchNormal (None, 17, 17, 256)  1024        block3_sepconv2[0][0]            \n",
            "__________________________________________________________________________________________________\n",
            "conv2d_1 (Conv2D)               (None, 9, 9, 256)    32768       add[0][0]                        \n",
            "__________________________________________________________________________________________________\n",
            "block3_pool (MaxPooling2D)      (None, 9, 9, 256)    0           block3_sepconv2_bn[0][0]         \n",
            "__________________________________________________________________________________________________\n",
            "batch_normalization_1 (BatchNor (None, 9, 9, 256)    1024        conv2d_1[0][0]                   \n",
            "__________________________________________________________________________________________________\n",
            "add_1 (Add)                     (None, 9, 9, 256)    0           block3_pool[0][0]                \n",
            "                                                                 batch_normalization_1[0][0]      \n",
            "__________________________________________________________________________________________________\n",
            "block4_sepconv1_act (Activation (None, 9, 9, 256)    0           add_1[0][0]                      \n",
            "__________________________________________________________________________________________________\n",
            "block4_sepconv1 (SeparableConv2 (None, 9, 9, 728)    188672      block4_sepconv1_act[0][0]        \n",
            "__________________________________________________________________________________________________\n",
            "block4_sepconv1_bn (BatchNormal (None, 9, 9, 728)    2912        block4_sepconv1[0][0]            \n",
            "__________________________________________________________________________________________________\n",
            "block4_sepconv2_act (Activation (None, 9, 9, 728)    0           block4_sepconv1_bn[0][0]         \n",
            "__________________________________________________________________________________________________\n",
            "block4_sepconv2 (SeparableConv2 (None, 9, 9, 728)    536536      block4_sepconv2_act[0][0]        \n",
            "__________________________________________________________________________________________________\n",
            "block4_sepconv2_bn (BatchNormal (None, 9, 9, 728)    2912        block4_sepconv2[0][0]            \n",
            "__________________________________________________________________________________________________\n",
            "conv2d_2 (Conv2D)               (None, 5, 5, 728)    186368      add_1[0][0]                      \n",
            "__________________________________________________________________________________________________\n",
            "block4_pool (MaxPooling2D)      (None, 5, 5, 728)    0           block4_sepconv2_bn[0][0]         \n",
            "__________________________________________________________________________________________________\n",
            "batch_normalization_2 (BatchNor (None, 5, 5, 728)    2912        conv2d_2[0][0]                   \n",
            "__________________________________________________________________________________________________\n",
            "add_2 (Add)                     (None, 5, 5, 728)    0           block4_pool[0][0]                \n",
            "                                                                 batch_normalization_2[0][0]      \n",
            "__________________________________________________________________________________________________\n",
            "block5_sepconv1_act (Activation (None, 5, 5, 728)    0           add_2[0][0]                      \n",
            "__________________________________________________________________________________________________\n",
            "block5_sepconv1 (SeparableConv2 (None, 5, 5, 728)    536536      block5_sepconv1_act[0][0]        \n",
            "__________________________________________________________________________________________________\n",
            "block5_sepconv1_bn (BatchNormal (None, 5, 5, 728)    2912        block5_sepconv1[0][0]            \n",
            "__________________________________________________________________________________________________\n",
            "block5_sepconv2_act (Activation (None, 5, 5, 728)    0           block5_sepconv1_bn[0][0]         \n",
            "__________________________________________________________________________________________________\n",
            "block5_sepconv2 (SeparableConv2 (None, 5, 5, 728)    536536      block5_sepconv2_act[0][0]        \n",
            "__________________________________________________________________________________________________\n",
            "block5_sepconv2_bn (BatchNormal (None, 5, 5, 728)    2912        block5_sepconv2[0][0]            \n",
            "__________________________________________________________________________________________________\n",
            "block5_sepconv3_act (Activation (None, 5, 5, 728)    0           block5_sepconv2_bn[0][0]         \n",
            "__________________________________________________________________________________________________\n",
            "block5_sepconv3 (SeparableConv2 (None, 5, 5, 728)    536536      block5_sepconv3_act[0][0]        \n",
            "__________________________________________________________________________________________________\n",
            "block5_sepconv3_bn (BatchNormal (None, 5, 5, 728)    2912        block5_sepconv3[0][0]            \n",
            "__________________________________________________________________________________________________\n",
            "add_3 (Add)                     (None, 5, 5, 728)    0           block5_sepconv3_bn[0][0]         \n",
            "                                                                 add_2[0][0]                      \n",
            "__________________________________________________________________________________________________\n",
            "block6_sepconv1_act (Activation (None, 5, 5, 728)    0           add_3[0][0]                      \n",
            "__________________________________________________________________________________________________\n",
            "block6_sepconv1 (SeparableConv2 (None, 5, 5, 728)    536536      block6_sepconv1_act[0][0]        \n",
            "__________________________________________________________________________________________________\n",
            "block6_sepconv1_bn (BatchNormal (None, 5, 5, 728)    2912        block6_sepconv1[0][0]            \n",
            "__________________________________________________________________________________________________\n",
            "block6_sepconv2_act (Activation (None, 5, 5, 728)    0           block6_sepconv1_bn[0][0]         \n",
            "__________________________________________________________________________________________________\n",
            "block6_sepconv2 (SeparableConv2 (None, 5, 5, 728)    536536      block6_sepconv2_act[0][0]        \n",
            "__________________________________________________________________________________________________\n",
            "block6_sepconv2_bn (BatchNormal (None, 5, 5, 728)    2912        block6_sepconv2[0][0]            \n",
            "__________________________________________________________________________________________________\n",
            "block6_sepconv3_act (Activation (None, 5, 5, 728)    0           block6_sepconv2_bn[0][0]         \n",
            "__________________________________________________________________________________________________\n",
            "block6_sepconv3 (SeparableConv2 (None, 5, 5, 728)    536536      block6_sepconv3_act[0][0]        \n",
            "__________________________________________________________________________________________________\n",
            "block6_sepconv3_bn (BatchNormal (None, 5, 5, 728)    2912        block6_sepconv3[0][0]            \n",
            "__________________________________________________________________________________________________\n",
            "add_4 (Add)                     (None, 5, 5, 728)    0           block6_sepconv3_bn[0][0]         \n",
            "                                                                 add_3[0][0]                      \n",
            "__________________________________________________________________________________________________\n",
            "block7_sepconv1_act (Activation (None, 5, 5, 728)    0           add_4[0][0]                      \n",
            "__________________________________________________________________________________________________\n",
            "block7_sepconv1 (SeparableConv2 (None, 5, 5, 728)    536536      block7_sepconv1_act[0][0]        \n",
            "__________________________________________________________________________________________________\n",
            "block7_sepconv1_bn (BatchNormal (None, 5, 5, 728)    2912        block7_sepconv1[0][0]            \n",
            "__________________________________________________________________________________________________\n",
            "block7_sepconv2_act (Activation (None, 5, 5, 728)    0           block7_sepconv1_bn[0][0]         \n",
            "__________________________________________________________________________________________________\n",
            "block7_sepconv2 (SeparableConv2 (None, 5, 5, 728)    536536      block7_sepconv2_act[0][0]        \n",
            "__________________________________________________________________________________________________\n",
            "block7_sepconv2_bn (BatchNormal (None, 5, 5, 728)    2912        block7_sepconv2[0][0]            \n",
            "__________________________________________________________________________________________________\n",
            "block7_sepconv3_act (Activation (None, 5, 5, 728)    0           block7_sepconv2_bn[0][0]         \n",
            "__________________________________________________________________________________________________\n",
            "block7_sepconv3 (SeparableConv2 (None, 5, 5, 728)    536536      block7_sepconv3_act[0][0]        \n",
            "__________________________________________________________________________________________________\n",
            "block7_sepconv3_bn (BatchNormal (None, 5, 5, 728)    2912        block7_sepconv3[0][0]            \n",
            "__________________________________________________________________________________________________\n",
            "add_5 (Add)                     (None, 5, 5, 728)    0           block7_sepconv3_bn[0][0]         \n",
            "                                                                 add_4[0][0]                      \n",
            "__________________________________________________________________________________________________\n",
            "block8_sepconv1_act (Activation (None, 5, 5, 728)    0           add_5[0][0]                      \n",
            "__________________________________________________________________________________________________\n",
            "block8_sepconv1 (SeparableConv2 (None, 5, 5, 728)    536536      block8_sepconv1_act[0][0]        \n",
            "__________________________________________________________________________________________________\n",
            "block8_sepconv1_bn (BatchNormal (None, 5, 5, 728)    2912        block8_sepconv1[0][0]            \n",
            "__________________________________________________________________________________________________\n",
            "block8_sepconv2_act (Activation (None, 5, 5, 728)    0           block8_sepconv1_bn[0][0]         \n",
            "__________________________________________________________________________________________________\n",
            "block8_sepconv2 (SeparableConv2 (None, 5, 5, 728)    536536      block8_sepconv2_act[0][0]        \n",
            "__________________________________________________________________________________________________\n",
            "block8_sepconv2_bn (BatchNormal (None, 5, 5, 728)    2912        block8_sepconv2[0][0]            \n",
            "__________________________________________________________________________________________________\n",
            "block8_sepconv3_act (Activation (None, 5, 5, 728)    0           block8_sepconv2_bn[0][0]         \n",
            "__________________________________________________________________________________________________\n",
            "block8_sepconv3 (SeparableConv2 (None, 5, 5, 728)    536536      block8_sepconv3_act[0][0]        \n",
            "__________________________________________________________________________________________________\n",
            "block8_sepconv3_bn (BatchNormal (None, 5, 5, 728)    2912        block8_sepconv3[0][0]            \n",
            "__________________________________________________________________________________________________\n",
            "add_6 (Add)                     (None, 5, 5, 728)    0           block8_sepconv3_bn[0][0]         \n",
            "                                                                 add_5[0][0]                      \n",
            "__________________________________________________________________________________________________\n",
            "block9_sepconv1_act (Activation (None, 5, 5, 728)    0           add_6[0][0]                      \n",
            "__________________________________________________________________________________________________\n",
            "block9_sepconv1 (SeparableConv2 (None, 5, 5, 728)    536536      block9_sepconv1_act[0][0]        \n",
            "__________________________________________________________________________________________________\n",
            "block9_sepconv1_bn (BatchNormal (None, 5, 5, 728)    2912        block9_sepconv1[0][0]            \n",
            "__________________________________________________________________________________________________\n",
            "block9_sepconv2_act (Activation (None, 5, 5, 728)    0           block9_sepconv1_bn[0][0]         \n",
            "__________________________________________________________________________________________________\n",
            "block9_sepconv2 (SeparableConv2 (None, 5, 5, 728)    536536      block9_sepconv2_act[0][0]        \n",
            "__________________________________________________________________________________________________\n",
            "block9_sepconv2_bn (BatchNormal (None, 5, 5, 728)    2912        block9_sepconv2[0][0]            \n",
            "__________________________________________________________________________________________________\n",
            "block9_sepconv3_act (Activation (None, 5, 5, 728)    0           block9_sepconv2_bn[0][0]         \n",
            "__________________________________________________________________________________________________\n",
            "block9_sepconv3 (SeparableConv2 (None, 5, 5, 728)    536536      block9_sepconv3_act[0][0]        \n",
            "__________________________________________________________________________________________________\n",
            "block9_sepconv3_bn (BatchNormal (None, 5, 5, 728)    2912        block9_sepconv3[0][0]            \n",
            "__________________________________________________________________________________________________\n",
            "add_7 (Add)                     (None, 5, 5, 728)    0           block9_sepconv3_bn[0][0]         \n",
            "                                                                 add_6[0][0]                      \n",
            "__________________________________________________________________________________________________\n",
            "block10_sepconv1_act (Activatio (None, 5, 5, 728)    0           add_7[0][0]                      \n",
            "__________________________________________________________________________________________________\n",
            "block10_sepconv1 (SeparableConv (None, 5, 5, 728)    536536      block10_sepconv1_act[0][0]       \n",
            "__________________________________________________________________________________________________\n",
            "block10_sepconv1_bn (BatchNorma (None, 5, 5, 728)    2912        block10_sepconv1[0][0]           \n",
            "__________________________________________________________________________________________________\n",
            "block10_sepconv2_act (Activatio (None, 5, 5, 728)    0           block10_sepconv1_bn[0][0]        \n",
            "__________________________________________________________________________________________________\n",
            "block10_sepconv2 (SeparableConv (None, 5, 5, 728)    536536      block10_sepconv2_act[0][0]       \n",
            "__________________________________________________________________________________________________\n",
            "block10_sepconv2_bn (BatchNorma (None, 5, 5, 728)    2912        block10_sepconv2[0][0]           \n",
            "__________________________________________________________________________________________________\n",
            "block10_sepconv3_act (Activatio (None, 5, 5, 728)    0           block10_sepconv2_bn[0][0]        \n",
            "__________________________________________________________________________________________________\n",
            "block10_sepconv3 (SeparableConv (None, 5, 5, 728)    536536      block10_sepconv3_act[0][0]       \n",
            "__________________________________________________________________________________________________\n",
            "block10_sepconv3_bn (BatchNorma (None, 5, 5, 728)    2912        block10_sepconv3[0][0]           \n",
            "__________________________________________________________________________________________________\n",
            "add_8 (Add)                     (None, 5, 5, 728)    0           block10_sepconv3_bn[0][0]        \n",
            "                                                                 add_7[0][0]                      \n",
            "__________________________________________________________________________________________________\n",
            "block11_sepconv1_act (Activatio (None, 5, 5, 728)    0           add_8[0][0]                      \n",
            "__________________________________________________________________________________________________\n",
            "block11_sepconv1 (SeparableConv (None, 5, 5, 728)    536536      block11_sepconv1_act[0][0]       \n",
            "__________________________________________________________________________________________________\n",
            "block11_sepconv1_bn (BatchNorma (None, 5, 5, 728)    2912        block11_sepconv1[0][0]           \n",
            "__________________________________________________________________________________________________\n",
            "block11_sepconv2_act (Activatio (None, 5, 5, 728)    0           block11_sepconv1_bn[0][0]        \n",
            "__________________________________________________________________________________________________\n",
            "block11_sepconv2 (SeparableConv (None, 5, 5, 728)    536536      block11_sepconv2_act[0][0]       \n",
            "__________________________________________________________________________________________________\n",
            "block11_sepconv2_bn (BatchNorma (None, 5, 5, 728)    2912        block11_sepconv2[0][0]           \n",
            "__________________________________________________________________________________________________\n",
            "block11_sepconv3_act (Activatio (None, 5, 5, 728)    0           block11_sepconv2_bn[0][0]        \n",
            "__________________________________________________________________________________________________\n",
            "block11_sepconv3 (SeparableConv (None, 5, 5, 728)    536536      block11_sepconv3_act[0][0]       \n",
            "__________________________________________________________________________________________________\n",
            "block11_sepconv3_bn (BatchNorma (None, 5, 5, 728)    2912        block11_sepconv3[0][0]           \n",
            "__________________________________________________________________________________________________\n",
            "add_9 (Add)                     (None, 5, 5, 728)    0           block11_sepconv3_bn[0][0]        \n",
            "                                                                 add_8[0][0]                      \n",
            "__________________________________________________________________________________________________\n",
            "block12_sepconv1_act (Activatio (None, 5, 5, 728)    0           add_9[0][0]                      \n",
            "__________________________________________________________________________________________________\n",
            "block12_sepconv1 (SeparableConv (None, 5, 5, 728)    536536      block12_sepconv1_act[0][0]       \n",
            "__________________________________________________________________________________________________\n",
            "block12_sepconv1_bn (BatchNorma (None, 5, 5, 728)    2912        block12_sepconv1[0][0]           \n",
            "__________________________________________________________________________________________________\n",
            "block12_sepconv2_act (Activatio (None, 5, 5, 728)    0           block12_sepconv1_bn[0][0]        \n",
            "__________________________________________________________________________________________________\n",
            "block12_sepconv2 (SeparableConv (None, 5, 5, 728)    536536      block12_sepconv2_act[0][0]       \n",
            "__________________________________________________________________________________________________\n",
            "block12_sepconv2_bn (BatchNorma (None, 5, 5, 728)    2912        block12_sepconv2[0][0]           \n",
            "__________________________________________________________________________________________________\n",
            "block12_sepconv3_act (Activatio (None, 5, 5, 728)    0           block12_sepconv2_bn[0][0]        \n",
            "__________________________________________________________________________________________________\n",
            "block12_sepconv3 (SeparableConv (None, 5, 5, 728)    536536      block12_sepconv3_act[0][0]       \n",
            "__________________________________________________________________________________________________\n",
            "block12_sepconv3_bn (BatchNorma (None, 5, 5, 728)    2912        block12_sepconv3[0][0]           \n",
            "__________________________________________________________________________________________________\n",
            "add_10 (Add)                    (None, 5, 5, 728)    0           block12_sepconv3_bn[0][0]        \n",
            "                                                                 add_9[0][0]                      \n",
            "__________________________________________________________________________________________________\n",
            "block13_sepconv1_act (Activatio (None, 5, 5, 728)    0           add_10[0][0]                     \n",
            "__________________________________________________________________________________________________\n",
            "block13_sepconv1 (SeparableConv (None, 5, 5, 728)    536536      block13_sepconv1_act[0][0]       \n",
            "__________________________________________________________________________________________________\n",
            "block13_sepconv1_bn (BatchNorma (None, 5, 5, 728)    2912        block13_sepconv1[0][0]           \n",
            "__________________________________________________________________________________________________\n",
            "block13_sepconv2_act (Activatio (None, 5, 5, 728)    0           block13_sepconv1_bn[0][0]        \n",
            "__________________________________________________________________________________________________\n",
            "block13_sepconv2 (SeparableConv (None, 5, 5, 1024)   752024      block13_sepconv2_act[0][0]       \n",
            "__________________________________________________________________________________________________\n",
            "block13_sepconv2_bn (BatchNorma (None, 5, 5, 1024)   4096        block13_sepconv2[0][0]           \n",
            "__________________________________________________________________________________________________\n",
            "conv2d_3 (Conv2D)               (None, 3, 3, 1024)   745472      add_10[0][0]                     \n",
            "__________________________________________________________________________________________________\n",
            "block13_pool (MaxPooling2D)     (None, 3, 3, 1024)   0           block13_sepconv2_bn[0][0]        \n",
            "__________________________________________________________________________________________________\n",
            "batch_normalization_3 (BatchNor (None, 3, 3, 1024)   4096        conv2d_3[0][0]                   \n",
            "__________________________________________________________________________________________________\n",
            "add_11 (Add)                    (None, 3, 3, 1024)   0           block13_pool[0][0]               \n",
            "                                                                 batch_normalization_3[0][0]      \n",
            "__________________________________________________________________________________________________\n",
            "block14_sepconv1 (SeparableConv (None, 3, 3, 1536)   1582080     add_11[0][0]                     \n",
            "__________________________________________________________________________________________________\n",
            "block14_sepconv1_bn (BatchNorma (None, 3, 3, 1536)   6144        block14_sepconv1[0][0]           \n",
            "__________________________________________________________________________________________________\n",
            "block14_sepconv1_act (Activatio (None, 3, 3, 1536)   0           block14_sepconv1_bn[0][0]        \n",
            "__________________________________________________________________________________________________\n",
            "block14_sepconv2 (SeparableConv (None, 3, 3, 2048)   3159552     block14_sepconv1_act[0][0]       \n",
            "__________________________________________________________________________________________________\n",
            "block14_sepconv2_bn (BatchNorma (None, 3, 3, 2048)   8192        block14_sepconv2[0][0]           \n",
            "__________________________________________________________________________________________________\n",
            "block14_sepconv2_act (Activatio (None, 3, 3, 2048)   0           block14_sepconv2_bn[0][0]        \n",
            "==================================================================================================\n",
            "Total params: 20,861,480\n",
            "Trainable params: 0\n",
            "Non-trainable params: 20,861,480\n",
            "__________________________________________________________________________________________________\n"
          ],
          "name": "stdout"
        }
      ]
    },
    {
      "cell_type": "code",
      "metadata": {
        "id": "kFhhKSOaD-Iv",
        "colab": {
          "base_uri": "https://localhost:8080/"
        },
        "outputId": "8c106ff0-b59d-4fd1-925d-d5cc70967016"
      },
      "source": [
        "%%time\n",
        "from tensorflow.keras import layers\n",
        "from tensorflow.keras import Model\n",
        "\n",
        "#base_model = InceptionV3(weights='imagenet', include_top=False, input_shape=(100,100,3),pooling = None)\n",
        "\n",
        "# x_train,x_test = X_train,X_test\n",
        "# X_train = base_model.predict(X_train)\n",
        "# del x_train\n",
        "# X_test = base_model.predict(X_test)\n",
        "# del x_test\n",
        "\n",
        "\n",
        "flat1 = Flatten()(base_model.layers[-1].output)\n",
        "class1 = Dense(1024, activation='relu')(flat1)\n",
        "class2 = Dropout(0.4)(class1)\n",
        "output = Dense(10, activation='softmax')(class2)\n",
        "# define new model\n",
        "model = Model(inputs=base_model.inputs, outputs=output)\n",
        "\n",
        "model.compile(optimizer = Adam(lr = 0.001), \n",
        "              loss = 'categorical_crossentropy', \n",
        "              metrics = ['acc'])\n",
        "\n",
        "\n",
        "training_history = None\n",
        "batch_size = 128\n",
        "epochs = 20\n",
        "try:\n",
        "   training_history =  model.fit(\n",
        "    X_train,\n",
        "        Y_train,\n",
        "        validation_data = (X_test,Y_test),\n",
        "        batch_size = batch_size,\n",
        "        epochs = epochs,\n",
        "        shuffle = True,\n",
        "        verbose = 1\n",
        "    )\n",
        "except KeyboardInterrupt as e:\n",
        "    print(\"\\njust wait to complete training!!\\n\")"
      ],
      "execution_count": 10,
      "outputs": [
        {
          "output_type": "stream",
          "text": [
            "Epoch 1/20\n",
            "391/391 [==============================] - 107s 190ms/step - loss: 1.8782 - acc: 0.6354 - val_loss: 0.7745 - val_acc: 0.7354\n",
            "Epoch 2/20\n",
            "391/391 [==============================] - 72s 184ms/step - loss: 0.7781 - acc: 0.7351 - val_loss: 0.7279 - val_acc: 0.7551\n",
            "Epoch 3/20\n",
            "391/391 [==============================] - 72s 185ms/step - loss: 0.7068 - acc: 0.7582 - val_loss: 0.7324 - val_acc: 0.7538\n",
            "Epoch 4/20\n",
            "391/391 [==============================] - 72s 185ms/step - loss: 0.6634 - acc: 0.7713 - val_loss: 0.7186 - val_acc: 0.7568\n",
            "Epoch 5/20\n",
            "391/391 [==============================] - 72s 185ms/step - loss: 0.6125 - acc: 0.7845 - val_loss: 0.7038 - val_acc: 0.7622\n",
            "Epoch 6/20\n",
            "391/391 [==============================] - 72s 185ms/step - loss: 0.5893 - acc: 0.7934 - val_loss: 0.7055 - val_acc: 0.7639\n",
            "Epoch 7/20\n",
            "391/391 [==============================] - 72s 185ms/step - loss: 0.5529 - acc: 0.8036 - val_loss: 0.7149 - val_acc: 0.7680\n",
            "Epoch 8/20\n",
            "391/391 [==============================] - 72s 185ms/step - loss: 0.5365 - acc: 0.8116 - val_loss: 0.7214 - val_acc: 0.7671\n",
            "Epoch 9/20\n",
            "391/391 [==============================] - 72s 185ms/step - loss: 0.5018 - acc: 0.8201 - val_loss: 0.7270 - val_acc: 0.7685\n",
            "Epoch 10/20\n",
            "391/391 [==============================] - 72s 185ms/step - loss: 0.4879 - acc: 0.8244 - val_loss: 0.7523 - val_acc: 0.7656\n",
            "Epoch 11/20\n",
            "391/391 [==============================] - 73s 186ms/step - loss: 0.4623 - acc: 0.8340 - val_loss: 0.7541 - val_acc: 0.7752\n",
            "Epoch 12/20\n",
            "391/391 [==============================] - 72s 185ms/step - loss: 0.4337 - acc: 0.8401 - val_loss: 0.7619 - val_acc: 0.7683\n",
            "Epoch 13/20\n",
            "391/391 [==============================] - 72s 185ms/step - loss: 0.4167 - acc: 0.8480 - val_loss: 0.7987 - val_acc: 0.7699\n",
            "Epoch 14/20\n",
            "391/391 [==============================] - 72s 185ms/step - loss: 0.3908 - acc: 0.8568 - val_loss: 0.7938 - val_acc: 0.7686\n",
            "Epoch 15/20\n",
            "391/391 [==============================] - 72s 185ms/step - loss: 0.3692 - acc: 0.8669 - val_loss: 0.8331 - val_acc: 0.7690\n",
            "Epoch 16/20\n",
            "391/391 [==============================] - 72s 185ms/step - loss: 0.3603 - acc: 0.8684 - val_loss: 0.8553 - val_acc: 0.7677\n",
            "Epoch 17/20\n",
            "391/391 [==============================] - 73s 186ms/step - loss: 0.3561 - acc: 0.8701 - val_loss: 0.8178 - val_acc: 0.7693\n",
            "Epoch 18/20\n",
            "391/391 [==============================] - 72s 185ms/step - loss: 0.3356 - acc: 0.8759 - val_loss: 0.8901 - val_acc: 0.7683\n",
            "Epoch 19/20\n",
            "391/391 [==============================] - 72s 185ms/step - loss: 0.3294 - acc: 0.8796 - val_loss: 0.9288 - val_acc: 0.7666\n",
            "Epoch 20/20\n",
            "391/391 [==============================] - 72s 185ms/step - loss: 0.3124 - acc: 0.8843 - val_loss: 0.9272 - val_acc: 0.7666\n",
            "CPU times: user 4min 30s, sys: 1min 30s, total: 6min 1s\n",
            "Wall time: 24min 41s\n"
          ],
          "name": "stdout"
        }
      ]
    },
    {
      "cell_type": "code",
      "metadata": {
        "colab": {
          "base_uri": "https://localhost:8080/"
        },
        "id": "Os7M9kLGTk-c",
        "outputId": "17e51f29-d63f-4069-836f-4089c5a37ead"
      },
      "source": [
        "X_train.shape,X_test.shape,Y_train.shape,Y_test.shape"
      ],
      "execution_count": 11,
      "outputs": [
        {
          "output_type": "execute_result",
          "data": {
            "text/plain": [
              "((50000, 71, 71, 3), (10000, 71, 71, 3), (50000, 10), (10000, 10))"
            ]
          },
          "metadata": {
            "tags": []
          },
          "execution_count": 11
        }
      ]
    },
    {
      "cell_type": "code",
      "metadata": {
        "colab": {
          "base_uri": "https://localhost:8080/"
        },
        "id": "ieeXkdaE1fBm",
        "outputId": "69aa4bc4-575a-44fe-f266-882e5887ee7e"
      },
      "source": [
        "#prediction using test set\n",
        "prediction = model.predict(X_test)\n",
        "y_test = np.argmax(Y_test, axis=1)\n",
        "prediction = np.argmax(prediction, axis=1)\n",
        "print('\\nAccuracy:', accuracy_score(y_test, prediction, normalize=True))\n",
        "print('\\nClassification Report:' + classification_report(y_test, prediction) + '\\nConfusion Matrix:')\n",
        "print(confusion_matrix(y_test, prediction))"
      ],
      "execution_count": 12,
      "outputs": [
        {
          "output_type": "stream",
          "text": [
            "\n",
            "Accuracy: 0.7666\n",
            "\n",
            "Classification Report:              precision    recall  f1-score   support\n",
            "\n",
            "           0       0.78      0.79      0.79      1000\n",
            "           1       0.82      0.88      0.85      1000\n",
            "           2       0.77      0.69      0.73      1000\n",
            "           3       0.63      0.63      0.63      1000\n",
            "           4       0.74      0.68      0.71      1000\n",
            "           5       0.68      0.76      0.72      1000\n",
            "           6       0.73      0.78      0.75      1000\n",
            "           7       0.82      0.78      0.80      1000\n",
            "           8       0.84      0.86      0.85      1000\n",
            "           9       0.87      0.81      0.84      1000\n",
            "\n",
            "    accuracy                           0.77     10000\n",
            "   macro avg       0.77      0.77      0.77     10000\n",
            "weighted avg       0.77      0.77      0.77     10000\n",
            "\n",
            "Confusion Matrix:\n",
            "[[791  24  26  22  11   8  13   9  79  17]\n",
            " [ 17 878   0  10   0  15   2   0  17  61]\n",
            " [ 45   1 688  45  66  48  75  19  12   1]\n",
            " [ 17   9  37 630  29 173  68  24   7   6]\n",
            " [ 20   4  56  38 683  25  92  73   6   3]\n",
            " [ 10   3  17 120  21 762  31  33   2   1]\n",
            " [  7   4  40  77  48  28 782   5   8   1]\n",
            " [ 17   2  23  38  62  58   5 782   4   9]\n",
            " [ 59  37   1  10   5   2   4   2 857  23]\n",
            " [ 27 109   0   6   1   9   2   5  28 813]]\n"
          ],
          "name": "stdout"
        }
      ]
    },
    {
      "cell_type": "code",
      "metadata": {
        "id": "A-8P-56SSLG8",
        "cellView": "form"
      },
      "source": [
        "#@title Default title text\n",
        "# model = Sequential()\n",
        "# model.add(GlobalAveragePooling2D(input_shape = (1,1,2048)))\n",
        "# model.add(Dropout(0.4))\n",
        "# #model.add(Dense(256,input_dim = X_train.shape[1],activation='relu'))\n",
        "# model.add(Dense(512,activation = 'relu'))\n",
        "# model.add(Dropout(0.5))\n",
        "# #model.add(BatchNormalization())\n",
        "# # model.add(Dense(128,activation = 'relu'))\n",
        "# # model.add(Dropout(0.5))\n",
        "# model.add(Dense(Y_test.shape[1], activation='softmax'))"
      ],
      "execution_count": null,
      "outputs": []
    },
    {
      "cell_type": "code",
      "metadata": {
        "id": "fibKxasKXnRy",
        "cellView": "form"
      },
      "source": [
        "#@title Default title text\n",
        "# model = models.Sequential()\n",
        "# model.add(GlobalAveragePooling2D(input_shape=(7, 7, 2048)))\n",
        "# model.add(Dropout(0.2))\n",
        "# model.add(Dense(Y_test.shape[1], activation='softmax'))"
      ],
      "execution_count": 20,
      "outputs": []
    },
    {
      "cell_type": "code",
      "metadata": {
        "id": "2L0FufTkSieg",
        "cellView": "form"
      },
      "source": [
        "#@title Default title text\n",
        "# model.compile(Adam(lr = 0.001),\n",
        "#               loss = 'categorical_crossentropy',\n",
        "#               metrics = ['accuracy'])"
      ],
      "execution_count": 15,
      "outputs": []
    },
    {
      "cell_type": "code",
      "metadata": {
        "id": "q50njXdb1Kxj"
      },
      "source": [
        "#@title Redundant Code { display-mode: \"form\" }\n",
        "# %%time\n",
        "# training_history = None\n",
        "# batch_size = 128\n",
        "# epochs = 20\n",
        "# try:\n",
        "#    training_history =  model.fit(\n",
        "#     X_train,\n",
        "#         Y_train,\n",
        "#         validation_data = (X_test,Y_test),\n",
        "#         batch_size = batch_size,\n",
        "#         epochs = epochs,\n",
        "#         shuffle = True,\n",
        "#         verbose = 1\n",
        "#     )\n",
        "# except KeyboardInterrupt as e:\n",
        "#     print(\"\\njust wait to complete training!!\\n\")"
      ],
      "execution_count": 16,
      "outputs": []
    },
    {
      "cell_type": "code",
      "metadata": {
        "id": "4MJPL27g69rw",
        "cellView": "form"
      },
      "source": [
        "#@title Default title text\n",
        "# X_train = X_train/255   #in range (0,1) now \n",
        "# X_test = X_test/255\n",
        "# print(X_train[0].shape)\n",
        "# Y_train[0]"
      ],
      "execution_count": 17,
      "outputs": []
    },
    {
      "cell_type": "code",
      "metadata": {
        "id": "rTTWWx8Yzp6_",
        "cellView": "form"
      },
      "source": [
        "#@title Default title text\n",
        "# img_rows, img_cols = 32, 32\n",
        "# y_train,y_test = Y_train,Y_test\n",
        "# input_shape = (img_rows, img_cols, 3)\n",
        "# # convert class vectors to binary class matrices\n",
        "# Y_train = tf.keras.utils.to_categorical(Y_train, num_classes)\n",
        "# Y_test = tf.keras.utils.to_categorical(Y_test, num_classes)"
      ],
      "execution_count": 18,
      "outputs": []
    },
    {
      "cell_type": "code",
      "metadata": {
        "id": "uW5mYnnp1tW2"
      },
      "source": [
        "#@title redundant Code { display-mode: \"form\" }\n",
        "# import cv2\n",
        "# from numpy import array, argmax\n",
        "# from sklearn import metrics\n",
        "# import matplotlib.pyplot as plt\n",
        "# from tensorflow.keras import datasets, utils, models, optimizers\n",
        "# from tensorflow.keras.applications.xception import Xception, preprocess_input\n",
        "# from tensorflow.keras.layers import Conv2D, MaxPool2D, Dropout, Flatten, Dense\n",
        "# (x_train, y_train), (x_test, y_test) = datasets.cifar10.load_data()\n",
        "\n",
        "# # print(x_train.shape, y_train.shape, x_test.shape, y_test.shape)\n",
        "\n",
        "# x_train = array([cv2.resize(i, dsize=(72, 72), interpolation=cv2.INTER_CUBIC) for i in x_train])\n",
        "# x_train = preprocess_input(x_train)\n",
        "# x_test = array([cv2.resize(i, dsize=(72, 72), interpolation=cv2.INTER_CUBIC) for i in x_test])\n",
        "# x_test = preprocess_input(x_test)\n",
        "\n",
        "# y_train = utils.to_categorical(y_train)\n",
        "# y_test = utils.to_categorical(y_test)\n",
        "# model_xception = Xception(include_top=False, weights='imagenet', input_shape=(72, 72, 3), pooling=None)\n",
        "\n",
        "# del y_train,y_test\n",
        "# #model_xception.summary()\n",
        "\n",
        "# x_train = model_xception.predict(x_train)\n",
        "# x_test = model_xception.predict(x_test)\n",
        "# model = models.Sequential()\n",
        "# model.add(GloalAveragePooling2D(input_size=(7, 7, 2048)))\n",
        "# model.add(Dropout(0.3))\n",
        "# model.add(Dense(x_test.shape[1], activaton='softmax'))\n",
        "\n",
        "# # model.summary()\n",
        "# model.fit(x_train, y_train, validation_data=(x_test, y_test), batch_size=32, epochs=10, verbose = True)\n",
        "# prediction = model.predict(x_test)\n",
        "\n",
        "# print(prediction)\n",
        "\n",
        "# y_test = argmax(y_test, axis=1)\n",
        "# prediction = argmax(prediction, axis=1)\n",
        "\n",
        "# print('\\nAccuracy:', metrics.accuracy_score(y_test, prediction, normalize=True))\n",
        "# print('\\nClassification Report:' + metrics.classification_report(y_test, prediction) + '\\nConfusion Matrix:')\n",
        "# print(metrics.confusion_matrix(y_test, prediction))"
      ],
      "execution_count": 19,
      "outputs": []
    },
    {
      "cell_type": "code",
      "metadata": {
        "id": "Hl-Hbb7gJI5g"
      },
      "source": [
        ""
      ],
      "execution_count": 19,
      "outputs": []
    }
  ]
}