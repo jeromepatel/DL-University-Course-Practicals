{
  "nbformat": 4,
  "nbformat_minor": 0,
  "metadata": {
    "colab": {
      "name": "18BCE088_DL_practical_5_TL_CIFAR10.ipynb",
      "provenance": [],
      "collapsed_sections": [],
      "authorship_tag": "ABX9TyMx+aVpMA6T8eOjKYCjCgd7",
      "include_colab_link": true
    },
    "kernelspec": {
      "name": "python3",
      "display_name": "Python 3"
    },
    "accelerator": "GPU"
  },
  "cells": [
    {
      "cell_type": "markdown",
      "metadata": {
        "id": "view-in-github",
        "colab_type": "text"
      },
      "source": [
        "<a href=\"https://colab.research.google.com/github/jeromepatel/DL-University-Course-Practicals/blob/master/18BCE088_DL_practical_5_TL_CIFAR10.ipynb\" target=\"_parent\"><img src=\"https://colab.research.google.com/assets/colab-badge.svg\" alt=\"Open In Colab\"/></a>"
      ]
    },
    {
      "cell_type": "code",
      "metadata": {
        "colab": {
          "base_uri": "https://localhost:8080/"
        },
        "id": "i639en4qDfRc",
        "outputId": "1dfb7e19-68e9-421e-9119-1ed0b514d80a"
      },
      "source": [
        "!nvidia-smi"
      ],
      "execution_count": null,
      "outputs": [
        {
          "output_type": "stream",
          "text": [
            "Wed Feb 24 15:49:25 2021       \n",
            "+-----------------------------------------------------------------------------+\n",
            "| NVIDIA-SMI 460.39       Driver Version: 460.32.03    CUDA Version: 11.2     |\n",
            "|-------------------------------+----------------------+----------------------+\n",
            "| GPU  Name        Persistence-M| Bus-Id        Disp.A | Volatile Uncorr. ECC |\n",
            "| Fan  Temp  Perf  Pwr:Usage/Cap|         Memory-Usage | GPU-Util  Compute M. |\n",
            "|                               |                      |               MIG M. |\n",
            "|===============================+======================+======================|\n",
            "|   0  Tesla T4            Off  | 00000000:00:04.0 Off |                    0 |\n",
            "| N/A   46C    P8    10W /  70W |      0MiB / 15109MiB |      0%      Default |\n",
            "|                               |                      |                  N/A |\n",
            "+-------------------------------+----------------------+----------------------+\n",
            "                                                                               \n",
            "+-----------------------------------------------------------------------------+\n",
            "| Processes:                                                                  |\n",
            "|  GPU   GI   CI        PID   Type   Process name                  GPU Memory |\n",
            "|        ID   ID                                                   Usage      |\n",
            "|=============================================================================|\n",
            "|  No running processes found                                                 |\n",
            "+-----------------------------------------------------------------------------+\n"
          ],
          "name": "stdout"
        }
      ]
    },
    {
      "cell_type": "code",
      "metadata": {
        "id": "APkzikOPz01t"
      },
      "source": [
        "\r\n",
        "#importing libraries\r\n",
        "from keras.datasets.cifar10 import load_data\r\n",
        "# from matplotlib import pyplot\r\n",
        "from tensorflow import keras\r\n",
        "from sklearn.metrics import accuracy_score,confusion_matrix,classification_report\r\n",
        "from keras.models import Sequential\r\n",
        "from keras.layers import Dense, Dropout, Flatten\r\n",
        "from keras.layers import Conv2D, MaxPool2D, BatchNormalization ,GlobalAveragePooling2D\r\n",
        "from keras import backend as K\r\n",
        "#from keras.applications.inception_v3 import InceptionV3, preprocess_input\r\n",
        "from tensorflow.keras.applications.xception import Xception, preprocess_input\r\n",
        "import tensorflow as tf\r\n",
        "from tensorflow.keras.optimizers import Adam\r\n",
        "\r\n",
        "import numpy as np\r\n",
        "# batch_size = 512\r\n",
        "# num_classes = 10\r\n",
        "# epochs = 30\r\n"
      ],
      "execution_count": null,
      "outputs": []
    },
    {
      "cell_type": "code",
      "metadata": {
        "colab": {
          "base_uri": "https://localhost:8080/",
          "height": 36
        },
        "id": "laiV5b0yFNe_",
        "outputId": "87f6b8e0-18d6-4af3-d811-96f524dede48"
      },
      "source": [
        "tf.test.gpu_device_name()"
      ],
      "execution_count": null,
      "outputs": [
        {
          "output_type": "execute_result",
          "data": {
            "application/vnd.google.colaboratory.intrinsic+json": {
              "type": "string"
            },
            "text/plain": [
              "'/device:GPU:0'"
            ]
          },
          "metadata": {
            "tags": []
          },
          "execution_count": 2
        }
      ]
    },
    {
      "cell_type": "code",
      "metadata": {
        "colab": {
          "base_uri": "https://localhost:8080/"
        },
        "id": "Y_-E88WA0Vrq",
        "outputId": "88bf05ec-000c-420e-acd7-8f6fe59ac976"
      },
      "source": [
        "(X_train_data, Y_train), (X_test_data, Y_test) = load_data()\r\n",
        "X_train_data.shape, X_test_data.shape"
      ],
      "execution_count": null,
      "outputs": [
        {
          "output_type": "execute_result",
          "data": {
            "text/plain": [
              "((50000, 32, 32, 3), (10000, 32, 32, 3))"
            ]
          },
          "metadata": {
            "tags": []
          },
          "execution_count": 3
        }
      ]
    },
    {
      "cell_type": "code",
      "metadata": {
        "id": "wdcbWgOtGryF"
      },
      "source": [
        "# X_train = X_train_data/255\r\n",
        "# X_test = X_test_data/255\r\n",
        "\r\n",
        "# del X_train_data, X_test_data"
      ],
      "execution_count": null,
      "outputs": []
    },
    {
      "cell_type": "code",
      "metadata": {
        "colab": {
          "base_uri": "https://localhost:8080/"
        },
        "id": "wTkp-f2HQrY4",
        "outputId": "50671d5b-d44d-4c0f-a698-9e37f266ff01"
      },
      "source": [
        "%%time\r\n",
        "import cv2\r\n",
        "rows = 71\r\n",
        "columns  = 71\r\n",
        "X_train_1 = np.array([cv2.resize(i, dsize=(rows, columns), interpolation=cv2.INTER_CUBIC) for i in X_train_data])\r\n",
        "X_train = preprocess_input(X_train_1)\r\n",
        "X_test_1 = np.array([cv2.resize(i, dsize=(rows, columns), interpolation=cv2.INTER_CUBIC) for i in X_test_data])\r\n",
        "X_test = preprocess_input(X_test_1)\r\n",
        "\r\n",
        "del X_train_data, X_test_data, X_train_1,X_test_1\r\n",
        "\r\n",
        "num_classes = 10\r\n",
        "img_rows, img_cols = 32, 32\r\n",
        "input_shape = (img_rows, img_cols, 3)\r\n",
        "y_train,y_test = Y_train,Y_test\r\n",
        "Y_train = tf.keras.utils.to_categorical(Y_train, num_classes)\r\n",
        "Y_test = tf.keras.utils.to_categorical(Y_test, num_classes)\r\n",
        "del y_test,y_train"
      ],
      "execution_count": null,
      "outputs": [
        {
          "output_type": "stream",
          "text": [
            "CPU times: user 3.98 s, sys: 1.36 s, total: 5.34 s\n",
            "Wall time: 5.34 s\n"
          ],
          "name": "stdout"
        }
      ]
    },
    {
      "cell_type": "code",
      "metadata": {
        "colab": {
          "base_uri": "https://localhost:8080/"
        },
        "id": "8GhChJ7wRYbi",
        "outputId": "89b0fb4b-f5f6-4d32-b03b-c4c0b410ed87"
      },
      "source": [
        "X_train.shape"
      ],
      "execution_count": null,
      "outputs": [
        {
          "output_type": "execute_result",
          "data": {
            "text/plain": [
              "(50000, 71, 71, 3)"
            ]
          },
          "metadata": {
            "tags": []
          },
          "execution_count": 14
        }
      ]
    },
    {
      "cell_type": "code",
      "metadata": {
        "id": "BhznXyQXRXyM"
      },
      "source": [
        "base_model = Xception(include_top=False, weights='imagenet', input_shape=(rows, columns, 3), pooling=None)"
      ],
      "execution_count": null,
      "outputs": []
    },
    {
      "cell_type": "code",
      "metadata": {
        "id": "gtiJ6AMQvFwL"
      },
      "source": [
        "for layer in base_model.layers:\r\n",
        "    layer.trainable = False\r\n",
        "base_model.summary()"
      ],
      "execution_count": null,
      "outputs": []
    },
    {
      "cell_type": "code",
      "metadata": {
        "id": "kFhhKSOaD-Iv",
        "colab": {
          "base_uri": "https://localhost:8080/"
        },
        "outputId": "fed4c988-52dd-45d6-b9b5-2022049c5e03"
      },
      "source": [
        "%%time\r\n",
        "from tensorflow.keras import layers\r\n",
        "from tensorflow.keras import Model\r\n",
        "\r\n",
        "#base_model = InceptionV3(weights='imagenet', include_top=False, input_shape=(100,100,3),pooling = None)\r\n",
        "\r\n",
        "# x_train,x_test = X_train,X_test\r\n",
        "# X_train = base_model.predict(X_train)\r\n",
        "# del x_train\r\n",
        "# X_test = base_model.predict(X_test)\r\n",
        "# del x_test\r\n",
        "\r\n",
        "\r\n",
        "flat1 = Flatten()(base_model.layers[-1].output)\r\n",
        "class1 = Dense(1024, activation='relu')(flat1)\r\n",
        "class2 = Dropout(0.4)(class1)\r\n",
        "output = Dense(10, activation='softmax')(class2)\r\n",
        "# define new model\r\n",
        "model = Model(inputs=base_model.inputs, outputs=output)\r\n",
        "\r\n",
        "model.compile(optimizer = Adam(lr = 0.001), \r\n",
        "              loss = 'categorical_crossentropy', \r\n",
        "              metrics = ['acc'])\r\n",
        "\r\n",
        "\r\n",
        "training_history = None\r\n",
        "batch_size = 128\r\n",
        "epochs = 20\r\n",
        "try:\r\n",
        "   training_history =  model.fit(\r\n",
        "    X_train,\r\n",
        "        Y_train,\r\n",
        "        validation_data = (X_test,Y_test),\r\n",
        "        batch_size = batch_size,\r\n",
        "        epochs = epochs,\r\n",
        "        shuffle = True,\r\n",
        "        verbose = 1\r\n",
        "    )\r\n",
        "except KeyboardInterrupt as e:\r\n",
        "    print(\"\\njust wait to complete training!!\\n\")"
      ],
      "execution_count": null,
      "outputs": [
        {
          "output_type": "stream",
          "text": [
            "Epoch 1/20\n",
            "391/391 [==============================] - 38s 90ms/step - loss: 2.0700 - acc: 0.6285 - val_loss: 0.7789 - val_acc: 0.7335\n",
            "Epoch 2/20\n",
            "391/391 [==============================] - 33s 85ms/step - loss: 0.7849 - acc: 0.7319 - val_loss: 0.7340 - val_acc: 0.7469\n",
            "Epoch 3/20\n",
            "391/391 [==============================] - 33s 85ms/step - loss: 0.7127 - acc: 0.7555 - val_loss: 0.7234 - val_acc: 0.7566\n",
            "Epoch 4/20\n",
            "391/391 [==============================] - 34s 87ms/step - loss: 0.6687 - acc: 0.7674 - val_loss: 0.7041 - val_acc: 0.7613\n",
            "Epoch 5/20\n",
            "391/391 [==============================] - 33s 85ms/step - loss: 0.6173 - acc: 0.7841 - val_loss: 0.7035 - val_acc: 0.7616\n",
            "Epoch 6/20\n",
            "391/391 [==============================] - 33s 86ms/step - loss: 0.5846 - acc: 0.7966 - val_loss: 0.7356 - val_acc: 0.7601\n",
            "Epoch 7/20\n",
            "391/391 [==============================] - 34s 86ms/step - loss: 0.5609 - acc: 0.8017 - val_loss: 0.7137 - val_acc: 0.7651\n",
            "Epoch 8/20\n",
            "391/391 [==============================] - 33s 86ms/step - loss: 0.5325 - acc: 0.8105 - val_loss: 0.7393 - val_acc: 0.7564\n",
            "Epoch 9/20\n",
            "391/391 [==============================] - 33s 85ms/step - loss: 0.5153 - acc: 0.8152 - val_loss: 0.7361 - val_acc: 0.7628\n",
            "Epoch 10/20\n",
            "391/391 [==============================] - 33s 86ms/step - loss: 0.4734 - acc: 0.8296 - val_loss: 0.7581 - val_acc: 0.7667\n",
            "Epoch 11/20\n",
            "390/391 [============================>.] - ETA: 0s - loss: 0.4622 - acc: 0.8324\n",
            "just wait to complete training!!\n",
            "\n",
            "CPU times: user 1min 28s, sys: 22.7 s, total: 1min 50s\n",
            "Wall time: 6min 8s\n"
          ],
          "name": "stdout"
        }
      ]
    },
    {
      "cell_type": "code",
      "metadata": {
        "colab": {
          "base_uri": "https://localhost:8080/"
        },
        "id": "Os7M9kLGTk-c",
        "outputId": "c2e83254-da78-4245-8bed-dcb94bea10f8"
      },
      "source": [
        "X_train.shape,X_test.shape,Y_train.shape,Y_test.shape"
      ],
      "execution_count": null,
      "outputs": [
        {
          "output_type": "execute_result",
          "data": {
            "text/plain": [
              "((50000, 71, 71, 3), (10000, 71, 71, 3), (50000, 10), (10000, 10))"
            ]
          },
          "metadata": {
            "tags": []
          },
          "execution_count": 15
        }
      ]
    },
    {
      "cell_type": "code",
      "metadata": {
        "id": "A-8P-56SSLG8"
      },
      "source": [
        "# model = Sequential()\r\n",
        "# model.add(GlobalAveragePooling2D(input_shape = (1,1,2048)))\r\n",
        "# model.add(Dropout(0.4))\r\n",
        "# #model.add(Dense(256,input_dim = X_train.shape[1],activation='relu'))\r\n",
        "# model.add(Dense(512,activation = 'relu'))\r\n",
        "# model.add(Dropout(0.5))\r\n",
        "# #model.add(BatchNormalization())\r\n",
        "# # model.add(Dense(128,activation = 'relu'))\r\n",
        "# # model.add(Dropout(0.5))\r\n",
        "# model.add(Dense(Y_test.shape[1], activation='softmax'))"
      ],
      "execution_count": null,
      "outputs": []
    },
    {
      "cell_type": "code",
      "metadata": {
        "id": "fibKxasKXnRy"
      },
      "source": [
        "# model = models.Sequential()\r\n",
        "# model.add(GlobalAveragePooling2D(input_shape=(7, 7, 2048)))\r\n",
        "# model.add(Dropout(0.2))\r\n",
        "# model.add(Dense(Y_test.shape[1], activation='softmax'))"
      ],
      "execution_count": null,
      "outputs": []
    },
    {
      "cell_type": "code",
      "metadata": {
        "id": "2L0FufTkSieg"
      },
      "source": [
        "# model.compile(Adam(lr = 0.001),\r\n",
        "#               loss = 'categorical_crossentropy',\r\n",
        "#               metrics = ['accuracy'])"
      ],
      "execution_count": null,
      "outputs": []
    },
    {
      "cell_type": "code",
      "metadata": {
        "id": "q50njXdb1Kxj",
        "colab": {
          "base_uri": "https://localhost:8080/"
        },
        "outputId": "e0612b03-d738-4c83-fd44-d3f97f650d2c"
      },
      "source": [
        "# %%time\r\n",
        "# training_history = None\r\n",
        "# batch_size = 128\r\n",
        "# epochs = 20\r\n",
        "# try:\r\n",
        "#    training_history =  model.fit(\r\n",
        "#     X_train,\r\n",
        "#         Y_train,\r\n",
        "#         validation_data = (X_test,Y_test),\r\n",
        "#         batch_size = batch_size,\r\n",
        "#         epochs = epochs,\r\n",
        "#         shuffle = True,\r\n",
        "#         verbose = 1\r\n",
        "#     )\r\n",
        "# except KeyboardInterrupt as e:\r\n",
        "#     print(\"\\njust wait to complete training!!\\n\")"
      ],
      "execution_count": null,
      "outputs": [
        {
          "output_type": "stream",
          "text": [
            "Epoch 1/20\n",
            "391/391 [==============================] - 2s 4ms/step - loss: 1.7619 - accuracy: 0.4499 - val_loss: 0.9857 - val_accuracy: 0.6788\n",
            "Epoch 2/20\n",
            "391/391 [==============================] - 1s 4ms/step - loss: 1.0794 - accuracy: 0.6432 - val_loss: 0.9428 - val_accuracy: 0.6861\n",
            "Epoch 3/20\n",
            "391/391 [==============================] - 1s 4ms/step - loss: 1.0294 - accuracy: 0.6579 - val_loss: 0.9201 - val_accuracy: 0.6957\n",
            "Epoch 4/20\n",
            "391/391 [==============================] - 1s 4ms/step - loss: 1.0175 - accuracy: 0.6616 - val_loss: 0.9122 - val_accuracy: 0.6996\n",
            "Epoch 5/20\n",
            "391/391 [==============================] - 1s 4ms/step - loss: 1.0009 - accuracy: 0.6702 - val_loss: 0.9305 - val_accuracy: 0.6934\n",
            "Epoch 6/20\n",
            "391/391 [==============================] - 1s 4ms/step - loss: 1.0091 - accuracy: 0.6675 - val_loss: 0.9207 - val_accuracy: 0.6988\n",
            "Epoch 7/20\n",
            "391/391 [==============================] - 1s 4ms/step - loss: 1.0031 - accuracy: 0.6679 - val_loss: 0.9229 - val_accuracy: 0.6920\n",
            "Epoch 8/20\n",
            "391/391 [==============================] - 1s 4ms/step - loss: 0.9907 - accuracy: 0.6718 - val_loss: 0.9152 - val_accuracy: 0.6944\n",
            "Epoch 9/20\n",
            "391/391 [==============================] - 1s 4ms/step - loss: 0.9906 - accuracy: 0.6714 - val_loss: 0.9189 - val_accuracy: 0.6945\n",
            "Epoch 10/20\n",
            "391/391 [==============================] - 1s 4ms/step - loss: 0.9945 - accuracy: 0.6707 - val_loss: 0.9097 - val_accuracy: 0.6977\n",
            "Epoch 11/20\n",
            "391/391 [==============================] - 1s 4ms/step - loss: 0.9807 - accuracy: 0.6732 - val_loss: 0.9291 - val_accuracy: 0.6910\n",
            "Epoch 12/20\n",
            "391/391 [==============================] - 1s 4ms/step - loss: 0.9847 - accuracy: 0.6708 - val_loss: 0.9277 - val_accuracy: 0.6951\n",
            "Epoch 13/20\n",
            "391/391 [==============================] - 1s 4ms/step - loss: 0.9854 - accuracy: 0.6702 - val_loss: 0.9111 - val_accuracy: 0.6980\n",
            "Epoch 14/20\n",
            "391/391 [==============================] - 1s 4ms/step - loss: 0.9759 - accuracy: 0.6749 - val_loss: 0.9286 - val_accuracy: 0.6936\n",
            "Epoch 15/20\n",
            "391/391 [==============================] - 1s 4ms/step - loss: 0.9890 - accuracy: 0.6722 - val_loss: 0.9147 - val_accuracy: 0.6973\n",
            "Epoch 16/20\n",
            "391/391 [==============================] - 1s 4ms/step - loss: 0.9814 - accuracy: 0.6696 - val_loss: 0.9140 - val_accuracy: 0.6953\n",
            "Epoch 17/20\n",
            "391/391 [==============================] - 1s 4ms/step - loss: 0.9777 - accuracy: 0.6746 - val_loss: 0.9398 - val_accuracy: 0.6948\n",
            "Epoch 18/20\n",
            "391/391 [==============================] - 1s 4ms/step - loss: 0.9906 - accuracy: 0.6721 - val_loss: 0.9430 - val_accuracy: 0.6931\n",
            "Epoch 19/20\n",
            "391/391 [==============================] - 1s 4ms/step - loss: 0.9889 - accuracy: 0.6693 - val_loss: 0.9082 - val_accuracy: 0.7000\n",
            "Epoch 20/20\n",
            "391/391 [==============================] - 1s 4ms/step - loss: 0.9739 - accuracy: 0.6763 - val_loss: 0.9104 - val_accuracy: 0.7022\n",
            "CPU times: user 33.6 s, sys: 6.21 s, total: 39.8 s\n",
            "Wall time: 29.8 s\n"
          ],
          "name": "stdout"
        }
      ]
    },
    {
      "cell_type": "code",
      "metadata": {
        "id": "4MJPL27g69rw",
        "cellView": "form"
      },
      "source": [
        "#@title Default title text\n",
        "# X_train = X_train/255   #in range (0,1) now \n",
        "# X_test = X_test/255\n",
        "# print(X_train[0].shape)\n",
        "# Y_train[0]"
      ],
      "execution_count": null,
      "outputs": []
    },
    {
      "cell_type": "code",
      "metadata": {
        "id": "rTTWWx8Yzp6_",
        "cellView": "form"
      },
      "source": [
        "#@title Default title text\n",
        "# img_rows, img_cols = 32, 32\n",
        "# y_train,y_test = Y_train,Y_test\n",
        "# input_shape = (img_rows, img_cols, 3)\n",
        "# # convert class vectors to binary class matrices\n",
        "# Y_train = tf.keras.utils.to_categorical(Y_train, num_classes)\n",
        "# Y_test = tf.keras.utils.to_categorical(Y_test, num_classes)"
      ],
      "execution_count": null,
      "outputs": []
    },
    {
      "cell_type": "code",
      "metadata": {
        "colab": {
          "base_uri": "https://localhost:8080/"
        },
        "id": "ieeXkdaE1fBm",
        "outputId": "8a0dea17-8459-4a4d-89a6-c71a532fbdf6"
      },
      "source": [
        "#prediction using test set\r\n",
        "prediction = model.predict(X_test)\r\n",
        "y_test = np.argmax(Y_test, axis=1)\r\n",
        "prediction = np.argmax(prediction, axis=1)\r\n",
        "print('\\nAccuracy:', accuracy_score(y_test, prediction, normalize=True))\r\n",
        "print('\\nClassification Report:' + classification_report(y_test, prediction) + '\\nConfusion Matrix:')\r\n",
        "print(confusion_matrix(y_test, prediction))"
      ],
      "execution_count": null,
      "outputs": [
        {
          "output_type": "stream",
          "text": [
            "\n",
            "Accuracy: 0.7692\n",
            "\n",
            "Classification Report:              precision    recall  f1-score   support\n",
            "\n",
            "           0       0.79      0.80      0.79      1000\n",
            "           1       0.89      0.81      0.85      1000\n",
            "           2       0.71      0.73      0.72      1000\n",
            "           3       0.64      0.58      0.61      1000\n",
            "           4       0.69      0.74      0.72      1000\n",
            "           5       0.71      0.72      0.72      1000\n",
            "           6       0.77      0.76      0.77      1000\n",
            "           7       0.82      0.79      0.81      1000\n",
            "           8       0.85      0.86      0.86      1000\n",
            "           9       0.81      0.89      0.84      1000\n",
            "\n",
            "    accuracy                           0.77     10000\n",
            "   macro avg       0.77      0.77      0.77     10000\n",
            "weighted avg       0.77      0.77      0.77     10000\n",
            "\n",
            "Confusion Matrix:\n",
            "[[802  11  32  15  14   2   6  13  75  30]\n",
            " [ 24 815   0   7   1  10   5   3  17 118]\n",
            " [ 43   1 730  38  84  33  48  18   4   1]\n",
            " [ 18   7  62 584  54 156  64  32  12  11]\n",
            " [ 23   1  66  33 738  12  61  55   8   3]\n",
            " [ 12   4  30 125  34 725  22  37   3   8]\n",
            " [  9   3  66  67  56  32 757   5   5   0]\n",
            " [ 13   0  34  25  73  42   6 794   7   6]\n",
            " [ 55  20   1   9   9   0   4   3 862  37]\n",
            " [ 21  55   0   7   0   2   4   9  17 885]]\n"
          ],
          "name": "stdout"
        }
      ]
    },
    {
      "cell_type": "code",
      "metadata": {
        "id": "uW5mYnnp1tW2"
      },
      "source": [
        "# import cv2\r\n",
        "# from numpy import array, argmax\r\n",
        "# from sklearn import metrics\r\n",
        "# import matplotlib.pyplot as plt\r\n",
        "# from tensorflow.keras import datasets, utils, models, optimizers\r\n",
        "# from tensorflow.keras.applications.xception import Xception, preprocess_input\r\n",
        "# from tensorflow.keras.layers import Conv2D, MaxPool2D, Dropout, Flatten, Dense\r\n",
        "# (x_train, y_train), (x_test, y_test) = datasets.cifar10.load_data()\r\n",
        "\r\n",
        "# # print(x_train.shape, y_train.shape, x_test.shape, y_test.shape)\r\n",
        "\r\n",
        "# x_train = array([cv2.resize(i, dsize=(72, 72), interpolation=cv2.INTER_CUBIC) for i in x_train])\r\n",
        "# x_train = preprocess_input(x_train)\r\n",
        "# x_test = array([cv2.resize(i, dsize=(72, 72), interpolation=cv2.INTER_CUBIC) for i in x_test])\r\n",
        "# x_test = preprocess_input(x_test)\r\n",
        "\r\n",
        "# y_train = utils.to_categorical(y_train)\r\n",
        "# y_test = utils.to_categorical(y_test)\r\n",
        "# model_xception = Xception(include_top=False, weights='imagenet', input_shape=(72, 72, 3), pooling=None)\r\n",
        "\r\n",
        "# del y_train,y_test\r\n",
        "# #model_xception.summary()\r\n",
        "\r\n",
        "# x_train = model_xception.predict(x_train)\r\n",
        "# x_test = model_xception.predict(x_test)\r\n",
        "# model = models.Sequential()\r\n",
        "# model.add(GloalAveragePooling2D(input_size=(7, 7, 2048)))\r\n",
        "# model.add(Dropout(0.3))\r\n",
        "# model.add(Dense(x_test.shape[1], activaton='softmax'))\r\n",
        "\r\n",
        "# # model.summary()\r\n",
        "# model.fit(x_train, y_train, validation_data=(x_test, y_test), batch_size=32, epochs=10, verbose = True)\r\n",
        "# prediction = model.predict(x_test)\r\n",
        "\r\n",
        "# print(prediction)\r\n",
        "\r\n",
        "# y_test = argmax(y_test, axis=1)\r\n",
        "# prediction = argmax(prediction, axis=1)\r\n",
        "\r\n",
        "# print('\\nAccuracy:', metrics.accuracy_score(y_test, prediction, normalize=True))\r\n",
        "# print('\\nClassification Report:' + metrics.classification_report(y_test, prediction) + '\\nConfusion Matrix:')\r\n",
        "# print(metrics.confusion_matrix(y_test, prediction))"
      ],
      "execution_count": null,
      "outputs": []
    },
    {
      "cell_type": "code",
      "metadata": {
        "id": "0Js7F3U2HWW7"
      },
      "source": [
        "lst = []\r\n",
        "i =1\r\n",
        "while 1:\r\n",
        "    i +=1\r\n",
        "    lst.append('Hello'*i)"
      ],
      "execution_count": null,
      "outputs": []
    },
    {
      "cell_type": "code",
      "metadata": {
        "id": "Hl-Hbb7gJI5g"
      },
      "source": [
        ""
      ],
      "execution_count": null,
      "outputs": []
    }
  ]
}