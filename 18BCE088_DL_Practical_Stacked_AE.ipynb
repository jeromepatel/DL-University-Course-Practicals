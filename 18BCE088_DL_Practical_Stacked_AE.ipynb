{
  "nbformat": 4,
  "nbformat_minor": 0,
  "metadata": {
    "colab": {
      "name": "18BCE088_DL_Practical_Stacked_AE.ipynb",
      "provenance": [],
      "collapsed_sections": [],
      "authorship_tag": "ABX9TyM/HbIS7EKbMlhb2xjBdGiY",
      "include_colab_link": true
    },
    "kernelspec": {
      "name": "python3",
      "display_name": "Python 3"
    },
    "language_info": {
      "name": "python"
    },
    "accelerator": "GPU"
  },
  "cells": [
    {
      "cell_type": "markdown",
      "metadata": {
        "id": "view-in-github",
        "colab_type": "text"
      },
      "source": [
        "<a href=\"https://colab.research.google.com/github/jeromepatel/DL-University-Course-Practicals/blob/master/18BCE088_DL_Practical_Stacked_AE.ipynb\" target=\"_parent\"><img src=\"https://colab.research.google.com/assets/colab-badge.svg\" alt=\"Open In Colab\"/></a>"
      ]
    },
    {
      "cell_type": "code",
      "metadata": {
        "colab": {
          "base_uri": "https://localhost:8080/"
        },
        "id": "VUdorVAIgCRY",
        "outputId": "f8b12979-506c-497b-caa8-34751c8999cd"
      },
      "source": [
        "!nvidia-smi"
      ],
      "execution_count": 1,
      "outputs": [
        {
          "output_type": "stream",
          "text": [
            "Mon Apr  5 10:08:44 2021       \n",
            "+-----------------------------------------------------------------------------+\n",
            "| NVIDIA-SMI 460.67       Driver Version: 460.32.03    CUDA Version: 11.2     |\n",
            "|-------------------------------+----------------------+----------------------+\n",
            "| GPU  Name        Persistence-M| Bus-Id        Disp.A | Volatile Uncorr. ECC |\n",
            "| Fan  Temp  Perf  Pwr:Usage/Cap|         Memory-Usage | GPU-Util  Compute M. |\n",
            "|                               |                      |               MIG M. |\n",
            "|===============================+======================+======================|\n",
            "|   0  Tesla K80           Off  | 00000000:00:04.0 Off |                    0 |\n",
            "| N/A   73C    P8    34W / 149W |      0MiB / 11441MiB |      0%      Default |\n",
            "|                               |                      |                  N/A |\n",
            "+-------------------------------+----------------------+----------------------+\n",
            "                                                                               \n",
            "+-----------------------------------------------------------------------------+\n",
            "| Processes:                                                                  |\n",
            "|  GPU   GI   CI        PID   Type   Process name                  GPU Memory |\n",
            "|        ID   ID                                                   Usage      |\n",
            "|=============================================================================|\n",
            "|  No running processes found                                                 |\n",
            "+-----------------------------------------------------------------------------+\n"
          ],
          "name": "stdout"
        }
      ]
    },
    {
      "cell_type": "code",
      "metadata": {
        "id": "bd4d99qFgNox"
      },
      "source": [
        "\n",
        "#importing libraries\n",
        "from tensorflow.keras import datasets, utils, models, applications\n",
        "from keras.datasets.mnist import load_data\n",
        "from matplotlib import pyplot as plt\n",
        "from tensorflow import keras\n",
        "from sklearn.metrics import accuracy_score,confusion_matrix,classification_report\n",
        "from keras.models import Sequential\n",
        "from keras import layers\n",
        "from keras.layers import Dense, Dropout, Flatten, GlobalAveragePooling2D, LeakyReLU, Reshape\n",
        "from keras.layers import Conv2D, MaxPool2D, BatchNormalization, Input\n",
        "from keras import backend as K\n",
        "from keras.applications.inception_v3 import InceptionV3\n",
        "from keras.applications.xception import Xception, preprocess_input\n",
        "import tensorflow as tf\n",
        "from tensorflow.keras.optimizers import Adam\n",
        "import numpy as np\n",
        "batch_size = 128\n",
        "num_classes = 10\n",
        "epochs = 20\n"
      ],
      "execution_count": 13,
      "outputs": []
    },
    {
      "cell_type": "code",
      "metadata": {
        "colab": {
          "base_uri": "https://localhost:8080/"
        },
        "id": "TBu7mpaTgXVj",
        "outputId": "b6131ef3-7927-4b48-ad2b-1db1b1b45941"
      },
      "source": [
        "(X_train, Y_train), (X_test, Y_test) = load_data()\n",
        "X_train.shape, X_test.shape"
      ],
      "execution_count": 9,
      "outputs": [
        {
          "output_type": "execute_result",
          "data": {
            "text/plain": [
              "((60000, 28, 28), (10000, 28, 28))"
            ]
          },
          "metadata": {
            "tags": []
          },
          "execution_count": 9
        }
      ]
    },
    {
      "cell_type": "code",
      "metadata": {
        "colab": {
          "base_uri": "https://localhost:8080/"
        },
        "id": "Ff9WVsmpgkpx",
        "outputId": "4f7edd0b-6b5e-42e4-d517-ccf500061520"
      },
      "source": [
        "X_train = X_train.reshape((X_train.shape[0],784)).astype('float32')\n",
        "X_test = X_test.reshape((X_test.shape[0],784)).astype('float32')\n",
        "print(X_train.shape, X_test.shape)\n",
        "\n",
        "\n",
        "y_train = utils.to_categorical(Y_train)\n",
        "y_test = utils.to_categorical(Y_test)\n",
        "\n",
        "X_train = X_train/255\n",
        "X_test = X_test/255"
      ],
      "execution_count": 10,
      "outputs": [
        {
          "output_type": "stream",
          "text": [
            "(60000, 784) (10000, 784)\n"
          ],
          "name": "stdout"
        }
      ]
    },
    {
      "cell_type": "code",
      "metadata": {
        "colab": {
          "base_uri": "https://localhost:8080/"
        },
        "id": "g11xeYndhKQU",
        "outputId": "dabc8348-6d2d-49eb-a542-4a6858087b3c"
      },
      "source": [
        "layer1 = Input(shape=(784,))\n",
        "layer2 = Dense(100, activation='sigmoid')(layer1)\n",
        "layer3 = Dense(784, activation='sigmoid')(layer2)\n",
        "\n",
        "autoencoder1 = models.Model(inputs=layer1, outputs=layer3)\n",
        "\n",
        "autoencoder1.summary()"
      ],
      "execution_count": 44,
      "outputs": [
        {
          "output_type": "stream",
          "text": [
            "Model: \"model_8\"\n",
            "_________________________________________________________________\n",
            "Layer (type)                 Output Shape              Param #   \n",
            "=================================================================\n",
            "input_12 (InputLayer)        [(None, 784)]             0         \n",
            "_________________________________________________________________\n",
            "dense_6 (Dense)              (None, 100)               78500     \n",
            "_________________________________________________________________\n",
            "dense_7 (Dense)              (None, 784)               79184     \n",
            "=================================================================\n",
            "Total params: 157,684\n",
            "Trainable params: 157,684\n",
            "Non-trainable params: 0\n",
            "_________________________________________________________________\n"
          ],
          "name": "stdout"
        }
      ]
    },
    {
      "cell_type": "code",
      "metadata": {
        "colab": {
          "base_uri": "https://localhost:8080/"
        },
        "id": "ojgRmHo0iCxH",
        "outputId": "8b579d99-6c0d-4846-efbd-01a9d45a15fe"
      },
      "source": [
        "autoencoder1.compile(loss=\"mean_squared_error\",optimizer='adam',metrics=['accuracy'])\n",
        "autoencoder1.fit(X_train,X_train,batch_size = batch_size,  epochs=10)"
      ],
      "execution_count": 45,
      "outputs": [
        {
          "output_type": "stream",
          "text": [
            "Epoch 1/10\n",
            "469/469 [==============================] - 2s 4ms/step - loss: 0.0839 - accuracy: 0.0111\n",
            "Epoch 2/10\n",
            "469/469 [==============================] - 2s 4ms/step - loss: 0.0435 - accuracy: 0.0114\n",
            "Epoch 3/10\n",
            "469/469 [==============================] - 2s 4ms/step - loss: 0.0320 - accuracy: 0.0105\n",
            "Epoch 4/10\n",
            "469/469 [==============================] - 2s 4ms/step - loss: 0.0250 - accuracy: 0.0115\n",
            "Epoch 5/10\n",
            "469/469 [==============================] - 2s 4ms/step - loss: 0.0202 - accuracy: 0.0126\n",
            "Epoch 6/10\n",
            "469/469 [==============================] - 2s 4ms/step - loss: 0.0169 - accuracy: 0.0127\n",
            "Epoch 7/10\n",
            "469/469 [==============================] - 2s 4ms/step - loss: 0.0146 - accuracy: 0.0124\n",
            "Epoch 8/10\n",
            "469/469 [==============================] - 2s 4ms/step - loss: 0.0129 - accuracy: 0.0127\n",
            "Epoch 9/10\n",
            "469/469 [==============================] - 2s 4ms/step - loss: 0.0116 - accuracy: 0.0120\n",
            "Epoch 10/10\n",
            "469/469 [==============================] - 2s 4ms/step - loss: 0.0106 - accuracy: 0.0128\n"
          ],
          "name": "stdout"
        },
        {
          "output_type": "execute_result",
          "data": {
            "text/plain": [
              "<tensorflow.python.keras.callbacks.History at 0x7f818e28c3d0>"
            ]
          },
          "metadata": {
            "tags": []
          },
          "execution_count": 45
        }
      ]
    },
    {
      "cell_type": "code",
      "metadata": {
        "colab": {
          "base_uri": "https://localhost:8080/"
        },
        "id": "IFy1-O2ViaQs",
        "outputId": "65c687a8-2efa-4819-c511-b4d89892d1fb"
      },
      "source": [
        "# input_layer = Input(shape=(784,))\n",
        "input_layer = autoencoder1.layers[0].output\n",
        "hidden_layer1 = autoencoder1.layers[1].output\n",
        "trained_embedding_model = keras.Model(inputs=input_layer, outputs=hidden_layer1)\n",
        "trained_embeddings1 = trained_embedding_model.predict(X_train)\n",
        "trained_embeddings1.shape"
      ],
      "execution_count": 47,
      "outputs": [
        {
          "output_type": "execute_result",
          "data": {
            "text/plain": [
              "(60000, 100)"
            ]
          },
          "metadata": {
            "tags": []
          },
          "execution_count": 47
        }
      ]
    },
    {
      "cell_type": "code",
      "metadata": {
        "colab": {
          "base_uri": "https://localhost:8080/"
        },
        "id": "8SCJUhOmk27a",
        "outputId": "45010b00-b32d-4215-94ac-e03101574a5b"
      },
      "source": [
        "layer1 = Input(shape=(100,))\n",
        "layer2 = Dense(50, activation='sigmoid')(layer1)\n",
        "layer3 = Dense(100, activation='sigmoid')(layer2)\n",
        "\n",
        "autoencoder2 = models.Model(inputs=layer1, outputs=layer3)\n",
        "\n",
        "autoencoder2.summary()\n",
        "\n",
        "autoencoder2.compile(loss=\"mean_squared_error\",optimizer='adam',metrics=['accuracy'])\n",
        "autoencoder2.fit(trained_embeddings1,trained_embeddings1,batch_size = batch_size,  epochs=10)"
      ],
      "execution_count": 48,
      "outputs": [
        {
          "output_type": "stream",
          "text": [
            "Model: \"model_11\"\n",
            "_________________________________________________________________\n",
            "Layer (type)                 Output Shape              Param #   \n",
            "=================================================================\n",
            "input_13 (InputLayer)        [(None, 100)]             0         \n",
            "_________________________________________________________________\n",
            "dense_8 (Dense)              (None, 50)                5050      \n",
            "_________________________________________________________________\n",
            "dense_9 (Dense)              (None, 100)               5100      \n",
            "=================================================================\n",
            "Total params: 10,150\n",
            "Trainable params: 10,150\n",
            "Non-trainable params: 0\n",
            "_________________________________________________________________\n",
            "Epoch 1/10\n",
            "469/469 [==============================] - 2s 3ms/step - loss: 0.0893 - accuracy: 0.0251\n",
            "Epoch 2/10\n",
            "469/469 [==============================] - 1s 3ms/step - loss: 0.0546 - accuracy: 0.0423\n",
            "Epoch 3/10\n",
            "469/469 [==============================] - 1s 3ms/step - loss: 0.0379 - accuracy: 0.0487\n",
            "Epoch 4/10\n",
            "469/469 [==============================] - 1s 3ms/step - loss: 0.0263 - accuracy: 0.0357\n",
            "Epoch 5/10\n",
            "469/469 [==============================] - 1s 3ms/step - loss: 0.0185 - accuracy: 0.0531\n",
            "Epoch 6/10\n",
            "469/469 [==============================] - 1s 3ms/step - loss: 0.0135 - accuracy: 0.0812\n",
            "Epoch 7/10\n",
            "469/469 [==============================] - 1s 3ms/step - loss: 0.0103 - accuracy: 0.0676\n",
            "Epoch 8/10\n",
            "469/469 [==============================] - 1s 3ms/step - loss: 0.0082 - accuracy: 0.0566\n",
            "Epoch 9/10\n",
            "469/469 [==============================] - 1s 3ms/step - loss: 0.0069 - accuracy: 0.0558\n",
            "Epoch 10/10\n",
            "469/469 [==============================] - 1s 3ms/step - loss: 0.0060 - accuracy: 0.0553\n"
          ],
          "name": "stdout"
        },
        {
          "output_type": "execute_result",
          "data": {
            "text/plain": [
              "<tensorflow.python.keras.callbacks.History at 0x7f819110be50>"
            ]
          },
          "metadata": {
            "tags": []
          },
          "execution_count": 48
        }
      ]
    },
    {
      "cell_type": "code",
      "metadata": {
        "colab": {
          "base_uri": "https://localhost:8080/"
        },
        "id": "5779dBoGldjY",
        "outputId": "e6827bee-daa3-44ea-ebe9-2e2260dbedff"
      },
      "source": [
        "# input_layer = Input(shape=(784,))\n",
        "input_layer = autoencoder2.layers[0].output\n",
        "hidden_layer1 = autoencoder2.layers[1].output\n",
        "trained_embedding_model_2 = keras.Model(inputs=input_layer, outputs=hidden_layer1)\n",
        "trained_embeddings2 = trained_embedding_model_2.predict(trained_embeddings1)\n",
        "trained_embeddings2.shape"
      ],
      "execution_count": 49,
      "outputs": [
        {
          "output_type": "execute_result",
          "data": {
            "text/plain": [
              "(60000, 50)"
            ]
          },
          "metadata": {
            "tags": []
          },
          "execution_count": 49
        }
      ]
    },
    {
      "cell_type": "code",
      "metadata": {
        "colab": {
          "base_uri": "https://localhost:8080/"
        },
        "id": "t71vG1s8vRP2",
        "outputId": "b7c22ad5-1163-4880-ed86-4a36ee8300f6"
      },
      "source": [
        "layer1 = Input(shape=(50,))\n",
        "layer2 = Dense(50, activation='sigmoid')(layer1)\n",
        "layer3 = Dense(10, activation='sigmoid')(layer2)\n",
        "\n",
        "autoencoder3 = models.Model(inputs=layer1, outputs=layer3)\n",
        "\n",
        "autoencoder3.summary()\n",
        "\n",
        "autoencoder3.compile(loss=\"categorical_crossentropy\",optimizer='adam',metrics=['accuracy'])\n",
        "autoencoder3.fit(trained_embeddings2,y_train,batch_size = batch_size,  epochs=10)"
      ],
      "execution_count": 50,
      "outputs": [
        {
          "output_type": "stream",
          "text": [
            "Model: \"model_13\"\n",
            "_________________________________________________________________\n",
            "Layer (type)                 Output Shape              Param #   \n",
            "=================================================================\n",
            "input_14 (InputLayer)        [(None, 50)]              0         \n",
            "_________________________________________________________________\n",
            "dense_10 (Dense)             (None, 50)                2550      \n",
            "_________________________________________________________________\n",
            "dense_11 (Dense)             (None, 10)                510       \n",
            "=================================================================\n",
            "Total params: 3,060\n",
            "Trainable params: 3,060\n",
            "Non-trainable params: 0\n",
            "_________________________________________________________________\n",
            "Epoch 1/10\n",
            "469/469 [==============================] - 2s 3ms/step - loss: 2.1187 - accuracy: 0.4091\n",
            "Epoch 2/10\n",
            "469/469 [==============================] - 1s 3ms/step - loss: 1.0876 - accuracy: 0.8231\n",
            "Epoch 3/10\n",
            "469/469 [==============================] - 1s 3ms/step - loss: 0.6189 - accuracy: 0.8611\n",
            "Epoch 4/10\n",
            "469/469 [==============================] - 1s 3ms/step - loss: 0.4912 - accuracy: 0.8711\n",
            "Epoch 5/10\n",
            "469/469 [==============================] - 1s 3ms/step - loss: 0.4364 - accuracy: 0.8759\n",
            "Epoch 6/10\n",
            "469/469 [==============================] - 1s 3ms/step - loss: 0.4087 - accuracy: 0.8807\n",
            "Epoch 7/10\n",
            "469/469 [==============================] - 1s 3ms/step - loss: 0.3916 - accuracy: 0.8832\n",
            "Epoch 8/10\n",
            "469/469 [==============================] - 1s 3ms/step - loss: 0.3769 - accuracy: 0.8879\n",
            "Epoch 9/10\n",
            "469/469 [==============================] - 1s 3ms/step - loss: 0.3763 - accuracy: 0.8862\n",
            "Epoch 10/10\n",
            "469/469 [==============================] - 1s 3ms/step - loss: 0.3649 - accuracy: 0.8889\n"
          ],
          "name": "stdout"
        },
        {
          "output_type": "execute_result",
          "data": {
            "text/plain": [
              "<tensorflow.python.keras.callbacks.History at 0x7f818bff0c10>"
            ]
          },
          "metadata": {
            "tags": []
          },
          "execution_count": 50
        }
      ]
    },
    {
      "cell_type": "code",
      "metadata": {
        "colab": {
          "base_uri": "https://localhost:8080/"
        },
        "id": "31bQoKrWvf9W",
        "outputId": "b491fbb7-a08b-4b1a-d74e-85e0614137e1"
      },
      "source": [
        "final_model = Sequential()\n",
        "final_model.add(autoencoder1.layers[0])\n",
        "final_model.add(autoencoder1.layers[1])\n",
        "final_model.add(autoencoder2.layers[1])\n",
        "final_model.add(autoencoder3.layers[1])\n",
        "final_model.add(autoencoder3.layers[2])\n",
        "final_model.compile(loss=\"categorical_crossentropy\",optimizer='adam',metrics=['accuracy'])\n",
        "final_model.fit(X_train,y_train,epochs=10,batch_size=batch_size)"
      ],
      "execution_count": 51,
      "outputs": [
        {
          "output_type": "stream",
          "text": [
            "Epoch 1/10\n",
            "469/469 [==============================] - 2s 4ms/step - loss: 0.3263 - accuracy: 0.9023\n",
            "Epoch 2/10\n",
            "469/469 [==============================] - 2s 4ms/step - loss: 0.2184 - accuracy: 0.9348\n",
            "Epoch 3/10\n",
            "469/469 [==============================] - 2s 4ms/step - loss: 0.1642 - accuracy: 0.9535\n",
            "Epoch 4/10\n",
            "469/469 [==============================] - 2s 4ms/step - loss: 0.1329 - accuracy: 0.9619\n",
            "Epoch 5/10\n",
            "469/469 [==============================] - 2s 4ms/step - loss: 0.1142 - accuracy: 0.9680\n",
            "Epoch 6/10\n",
            "469/469 [==============================] - 2s 4ms/step - loss: 0.0971 - accuracy: 0.9729\n",
            "Epoch 7/10\n",
            "469/469 [==============================] - 2s 4ms/step - loss: 0.0835 - accuracy: 0.9772\n",
            "Epoch 8/10\n",
            "469/469 [==============================] - 2s 4ms/step - loss: 0.0701 - accuracy: 0.9810\n",
            "Epoch 9/10\n",
            "469/469 [==============================] - 2s 4ms/step - loss: 0.0626 - accuracy: 0.9824\n",
            "Epoch 10/10\n",
            "469/469 [==============================] - 2s 4ms/step - loss: 0.0562 - accuracy: 0.9848\n"
          ],
          "name": "stdout"
        },
        {
          "output_type": "execute_result",
          "data": {
            "text/plain": [
              "<tensorflow.python.keras.callbacks.History at 0x7f818b73efd0>"
            ]
          },
          "metadata": {
            "tags": []
          },
          "execution_count": 51
        }
      ]
    },
    {
      "cell_type": "code",
      "metadata": {
        "colab": {
          "base_uri": "https://localhost:8080/"
        },
        "id": "MVObEBTLx7nH",
        "outputId": "2384fe7c-b9b0-425f-f5e7-9bb4472eaf1b"
      },
      "source": [
        "final_model.evaluate(X_test,y_test)"
      ],
      "execution_count": 52,
      "outputs": [
        {
          "output_type": "stream",
          "text": [
            "313/313 [==============================] - 1s 3ms/step - loss: 0.1004 - accuracy: 0.9695\n"
          ],
          "name": "stdout"
        },
        {
          "output_type": "execute_result",
          "data": {
            "text/plain": [
              "[0.10037020593881607, 0.9695000052452087]"
            ]
          },
          "metadata": {
            "tags": []
          },
          "execution_count": 52
        }
      ]
    },
    {
      "cell_type": "code",
      "metadata": {
        "id": "yR0Sbp6MyI1V"
      },
      "source": [
        ""
      ],
      "execution_count": null,
      "outputs": []
    }
  ]
}