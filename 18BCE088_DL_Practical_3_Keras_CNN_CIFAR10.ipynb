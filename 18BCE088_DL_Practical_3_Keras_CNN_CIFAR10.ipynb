{
  "nbformat": 4,
  "nbformat_minor": 0,
  "metadata": {
    "colab": {
      "name": "18BCE088_DL_Practical_3_Keras_CNN_CIFAR10.ipynb",
      "provenance": [],
      "collapsed_sections": [],
      "authorship_tag": "ABX9TyM1lxdh6KaZhD7y9qYWqDcA",
      "include_colab_link": true
    },
    "kernelspec": {
      "name": "python3",
      "display_name": "Python 3"
    },
    "accelerator": "GPU"
  },
  "cells": [
    {
      "cell_type": "markdown",
      "metadata": {
        "id": "view-in-github",
        "colab_type": "text"
      },
      "source": [
        "<a href=\"https://colab.research.google.com/github/jeromepatel/DL-University-Course-Practicals/blob/master/18BCE088_DL_Practical_3_Keras_CNN_CIFAR10.ipynb\" target=\"_parent\"><img src=\"https://colab.research.google.com/assets/colab-badge.svg\" alt=\"Open In Colab\"/></a>"
      ]
    },
    {
      "cell_type": "markdown",
      "metadata": {
        "id": "l9OZsnYg_wzb"
      },
      "source": [
        "## Practical 3 Keras Convolutional Neural Network For CIFAR10\n",
        "## Submitted by: 18BCE088 Jyot Makadiya\n",
        "### Objective: Implement Convolutional Neural Network on CIFAR10.\n",
        "\n",
        "Description: In this practical, we have implemented a convolutional neural network Keras model for CIFAR10 dataset using Sequential API. This practical demonstrates the use of various keras layers such as dropout, batch normalization. We have also used categorical crossentropy, as we have one hot encoded the labels.\n",
        " The 10 classes are:\n",
        "* airplane \t\t\t\t\t\t\t\t\t\t\n",
        "* automobile \t\t\t\t\t\t\t\t\t\t\n",
        "* bird \t\t\t\t\t\t\t\t\t\t\n",
        "* cat \t\t\t\t\t\t\t\t\t\t\n",
        "* deer \t\t\t\t\t\t\t\t\t\t\n",
        "* dog \t\t\t\t\t\t\t\t\t\t\n",
        "* frog \t\t\t\t\t\t\t\t\t\t\n",
        "* horse \t\t\t\t\t\t\t\t\t\t\n",
        "* ship \t\t\t\t\t\t\t\t\t\t\n",
        "* truck\t\t\t\t\t\t\n"
      ]
    },
    {
      "cell_type": "markdown",
      "metadata": {
        "id": "dfj3fBVb1WYq"
      },
      "source": [
        "## Importing Libraries"
      ]
    },
    {
      "cell_type": "code",
      "metadata": {
        "id": "APkzikOPz01t"
      },
      "source": [
        "\n",
        "#importing libraries\n",
        "from keras.datasets.cifar10 import load_data\n",
        "from matplotlib import pyplot\n",
        "from tensorflow import keras\n",
        "from sklearn.metrics import accuracy_score,confusion_matrix,classification_report\n",
        "from keras.models import Sequential\n",
        "from keras.layers import Dense, Dropout, Flatten\n",
        "from keras.layers import Conv2D, MaxPool2D, BatchNormalization\n",
        "from keras import backend as K\n",
        "import tensorflow as tf\n",
        "from tensorflow.keras.optimizers import Adam\n",
        "import numpy as np\n",
        "batch_size = 512\n",
        "num_classes = 10\n",
        "epochs = 30\n"
      ],
      "execution_count": null,
      "outputs": []
    },
    {
      "cell_type": "code",
      "metadata": {
        "colab": {
          "base_uri": "https://localhost:8080/",
          "height": 36
        },
        "id": "laiV5b0yFNe_",
        "outputId": "5893ca4a-55f5-4b69-f810-e5dd70d1e628"
      },
      "source": [
        "tf.test.gpu_device_name()"
      ],
      "execution_count": null,
      "outputs": [
        {
          "output_type": "execute_result",
          "data": {
            "application/vnd.google.colaboratory.intrinsic+json": {
              "type": "string"
            },
            "text/plain": [
              "'/device:GPU:0'"
            ]
          },
          "metadata": {
            "tags": []
          },
          "execution_count": 3
        }
      ]
    },
    {
      "cell_type": "code",
      "metadata": {
        "colab": {
          "base_uri": "https://localhost:8080/"
        },
        "id": "Y_-E88WA0Vrq",
        "outputId": "ffcc3a85-faca-4bc1-a832-d8d344aa30ef"
      },
      "source": [
        "(X_train, Y_train), (X_test, Y_test) = load_data()\n",
        "X_train.shape, X_test.shape"
      ],
      "execution_count": null,
      "outputs": [
        {
          "output_type": "stream",
          "text": [
            "Downloading data from https://www.cs.toronto.edu/~kriz/cifar-10-python.tar.gz\n",
            "170500096/170498071 [==============================] - 2s 0us/step\n"
          ],
          "name": "stdout"
        },
        {
          "output_type": "execute_result",
          "data": {
            "text/plain": [
              "((50000, 32, 32, 3), (10000, 32, 32, 3))"
            ]
          },
          "metadata": {
            "tags": []
          },
          "execution_count": 4
        }
      ]
    },
    {
      "cell_type": "markdown",
      "metadata": {
        "id": "6zIGkr-5FZja"
      },
      "source": [
        "## Pre-processing the data"
      ]
    },
    {
      "cell_type": "code",
      "metadata": {
        "colab": {
          "base_uri": "https://localhost:8080/"
        },
        "id": "4MJPL27g69rw",
        "outputId": "273ddcd3-6069-43be-88fb-2bcd6d565ae3"
      },
      "source": [
        "X_train = X_train/255   #in range (0,1) now \n",
        "X_test = X_test/255\n",
        "print(X_train[0].shape)\n",
        "Y_train[0]"
      ],
      "execution_count": null,
      "outputs": [
        {
          "output_type": "stream",
          "text": [
            "(32, 32, 3)\n"
          ],
          "name": "stdout"
        },
        {
          "output_type": "execute_result",
          "data": {
            "text/plain": [
              "array([6], dtype=uint8)"
            ]
          },
          "metadata": {
            "tags": []
          },
          "execution_count": 5
        }
      ]
    },
    {
      "cell_type": "code",
      "metadata": {
        "id": "rTTWWx8Yzp6_"
      },
      "source": [
        "img_rows, img_cols = 32, 32\n",
        "y_train,y_test = Y_train,Y_test\n",
        "input_shape = (img_rows, img_cols, 3)\n",
        "# convert class vectors to binary class matrices\n",
        "Y_train = tf.keras.utils.to_categorical(Y_train, num_classes)\n",
        "Y_test = tf.keras.utils.to_categorical(Y_test, num_classes)"
      ],
      "execution_count": null,
      "outputs": []
    },
    {
      "cell_type": "markdown",
      "metadata": {
        "id": "0FK7lKU-FfFK"
      },
      "source": [
        "## Model definition and Training"
      ]
    },
    {
      "cell_type": "code",
      "metadata": {
        "id": "WjyqSSl-07L1"
      },
      "source": [
        "#defining model\n",
        "model = Sequential()\n",
        "model.add(Conv2D(32, kernel_size=(3, 3),strides = (1,1),padding = 'same',activation='relu',input_shape=input_shape))\n",
        "model.add(Dropout(rate=0.3))\n",
        "model.add(Conv2D(filters=32, kernel_size=(3,3), strides=1, padding='same', activation='relu'))\n",
        "model.add(BatchNormalization())\n",
        "model.add(Conv2D(filters=64, kernel_size=(3,3), strides=1, padding='same', activation='relu'))\n",
        "model.add(Dropout(rate=0.3))\n",
        "model.add(MaxPool2D(pool_size=(2,2), strides=2))\n",
        "model.add(Conv2D(filters=128, kernel_size=(3,3), strides=1, padding='same', activation='relu'))\n",
        "model.add(BatchNormalization())\n",
        "model.add(Conv2D(filters=128, kernel_size=(3,3), strides=1, padding='same', activation='relu'))\n",
        "model.add(Dropout(rate=0.4))\n",
        "model.add(MaxPool2D(pool_size=(2,2), strides=2))\n",
        "model.add(Conv2D(filters=264, kernel_size=(3,3), strides=1, padding='same', activation='relu'))\n",
        "model.add(BatchNormalization())\n",
        "model.add(MaxPool2D(pool_size=(2,2), strides=2))\n",
        "model.add(Flatten())\n",
        "model.add(Dropout(rate=0.4))\n",
        "model.add(Dense(units=128, activation='relu'))\n",
        "model.add(Dropout(rate=0.3))\n",
        "model.add(Dense(units=num_classes, activation='softmax'))"
      ],
      "execution_count": null,
      "outputs": []
    },
    {
      "cell_type": "code",
      "metadata": {
        "colab": {
          "base_uri": "https://localhost:8080/"
        },
        "id": "3021JHOG9dc_",
        "outputId": "7dbe2f6b-5a16-49e8-d205-f5e8e6154187"
      },
      "source": [
        "model.summary()"
      ],
      "execution_count": null,
      "outputs": [
        {
          "output_type": "stream",
          "text": [
            "Model: \"sequential_1\"\n",
            "_________________________________________________________________\n",
            "Layer (type)                 Output Shape              Param #   \n",
            "=================================================================\n",
            "conv2d_6 (Conv2D)            (None, 32, 32, 32)        896       \n",
            "_________________________________________________________________\n",
            "dropout_5 (Dropout)          (None, 32, 32, 32)        0         \n",
            "_________________________________________________________________\n",
            "conv2d_7 (Conv2D)            (None, 32, 32, 32)        9248      \n",
            "_________________________________________________________________\n",
            "batch_normalization_3 (Batch (None, 32, 32, 32)        128       \n",
            "_________________________________________________________________\n",
            "conv2d_8 (Conv2D)            (None, 32, 32, 64)        18496     \n",
            "_________________________________________________________________\n",
            "dropout_6 (Dropout)          (None, 32, 32, 64)        0         \n",
            "_________________________________________________________________\n",
            "max_pooling2d_3 (MaxPooling2 (None, 16, 16, 64)        0         \n",
            "_________________________________________________________________\n",
            "conv2d_9 (Conv2D)            (None, 16, 16, 128)       73856     \n",
            "_________________________________________________________________\n",
            "batch_normalization_4 (Batch (None, 16, 16, 128)       512       \n",
            "_________________________________________________________________\n",
            "conv2d_10 (Conv2D)           (None, 16, 16, 128)       147584    \n",
            "_________________________________________________________________\n",
            "dropout_7 (Dropout)          (None, 16, 16, 128)       0         \n",
            "_________________________________________________________________\n",
            "max_pooling2d_4 (MaxPooling2 (None, 8, 8, 128)         0         \n",
            "_________________________________________________________________\n",
            "conv2d_11 (Conv2D)           (None, 8, 8, 264)         304392    \n",
            "_________________________________________________________________\n",
            "batch_normalization_5 (Batch (None, 8, 8, 264)         1056      \n",
            "_________________________________________________________________\n",
            "max_pooling2d_5 (MaxPooling2 (None, 4, 4, 264)         0         \n",
            "_________________________________________________________________\n",
            "flatten_1 (Flatten)          (None, 4224)              0         \n",
            "_________________________________________________________________\n",
            "dropout_8 (Dropout)          (None, 4224)              0         \n",
            "_________________________________________________________________\n",
            "dense_2 (Dense)              (None, 128)               540800    \n",
            "_________________________________________________________________\n",
            "dropout_9 (Dropout)          (None, 128)               0         \n",
            "_________________________________________________________________\n",
            "dense_3 (Dense)              (None, 10)                1290      \n",
            "=================================================================\n",
            "Total params: 1,098,258\n",
            "Trainable params: 1,097,410\n",
            "Non-trainable params: 848\n",
            "_________________________________________________________________\n"
          ],
          "name": "stdout"
        }
      ]
    },
    {
      "cell_type": "code",
      "metadata": {
        "id": "32LvPMzB1HIo"
      },
      "source": [
        "model.compile(Adam(lr = 0.001),\n",
        "              loss = 'categorical_crossentropy',\n",
        "              metrics = ['accuracy'])"
      ],
      "execution_count": null,
      "outputs": []
    },
    {
      "cell_type": "code",
      "metadata": {
        "colab": {
          "base_uri": "https://localhost:8080/"
        },
        "id": "q50njXdb1Kxj",
        "outputId": "3dceb1bd-e65a-4ef7-a738-6d56b6643e4c"
      },
      "source": [
        "%%time\n",
        "training_history = None\n",
        "try:\n",
        "   training_history =  model.fit(\n",
        "    X_train,\n",
        "        Y_train,\n",
        "        validation_data = (X_test,Y_test),\n",
        "        batch_size = batch_size,\n",
        "        epochs = epochs,\n",
        "        shuffle = True,\n",
        "        verbose = 1\n",
        "    )\n",
        "except KeyboardInterrupt as e:\n",
        "    print(\"\\njust wait to complete training!!\\n\")"
      ],
      "execution_count": null,
      "outputs": [
        {
          "output_type": "stream",
          "text": [
            "Epoch 1/15\n",
            "98/98 [==============================] - 21s 210ms/step - loss: 2.6676 - accuracy: 0.2229 - val_loss: 8.3864 - val_accuracy: 0.1000\n",
            "Epoch 2/15\n",
            "98/98 [==============================] - 20s 204ms/step - loss: 1.6702 - accuracy: 0.3972 - val_loss: 5.6815 - val_accuracy: 0.1667\n",
            "Epoch 3/15\n",
            "98/98 [==============================] - 20s 204ms/step - loss: 1.4105 - accuracy: 0.4947 - val_loss: 3.5466 - val_accuracy: 0.1475\n",
            "Epoch 4/15\n",
            "98/98 [==============================] - 20s 204ms/step - loss: 1.2255 - accuracy: 0.5640 - val_loss: 3.8609 - val_accuracy: 0.1824\n",
            "Epoch 5/15\n",
            "98/98 [==============================] - 20s 204ms/step - loss: 1.0817 - accuracy: 0.6153 - val_loss: 3.9945 - val_accuracy: 0.1901\n",
            "Epoch 6/15\n",
            "98/98 [==============================] - 20s 204ms/step - loss: 0.9698 - accuracy: 0.6591 - val_loss: 2.6545 - val_accuracy: 0.3468\n",
            "Epoch 7/15\n",
            "98/98 [==============================] - 20s 204ms/step - loss: 0.8909 - accuracy: 0.6878 - val_loss: 2.3179 - val_accuracy: 0.4439\n",
            "Epoch 8/15\n",
            "98/98 [==============================] - 20s 204ms/step - loss: 0.8163 - accuracy: 0.7114 - val_loss: 1.3304 - val_accuracy: 0.5779\n",
            "Epoch 9/15\n",
            "98/98 [==============================] - 20s 204ms/step - loss: 0.7507 - accuracy: 0.7356 - val_loss: 1.2212 - val_accuracy: 0.6324\n",
            "Epoch 10/15\n",
            "98/98 [==============================] - 20s 203ms/step - loss: 0.7016 - accuracy: 0.7551 - val_loss: 1.2610 - val_accuracy: 0.6185\n",
            "Epoch 11/15\n",
            "98/98 [==============================] - 20s 203ms/step - loss: 0.6564 - accuracy: 0.7730 - val_loss: 1.1176 - val_accuracy: 0.6595\n",
            "Epoch 12/15\n",
            "98/98 [==============================] - 20s 204ms/step - loss: 0.6238 - accuracy: 0.7827 - val_loss: 1.0162 - val_accuracy: 0.6899\n",
            "Epoch 13/15\n",
            "98/98 [==============================] - 20s 203ms/step - loss: 0.5871 - accuracy: 0.7957 - val_loss: 1.2728 - val_accuracy: 0.6532\n",
            "Epoch 14/15\n",
            "98/98 [==============================] - 20s 203ms/step - loss: 0.5505 - accuracy: 0.8086 - val_loss: 1.0102 - val_accuracy: 0.7092\n",
            "Epoch 15/15\n",
            "98/98 [==============================] - 20s 204ms/step - loss: 0.5218 - accuracy: 0.8171 - val_loss: 1.0504 - val_accuracy: 0.7120\n",
            "CPU times: user 2min 1s, sys: 1min 28s, total: 3min 29s\n",
            "Wall time: 5min 1s\n"
          ],
          "name": "stdout"
        }
      ]
    },
    {
      "cell_type": "code",
      "metadata": {
        "colab": {
          "base_uri": "https://localhost:8080/"
        },
        "id": "ieeXkdaE1fBm",
        "outputId": "6d7cd16b-f36a-4421-bd4f-06cba6bf3cb2"
      },
      "source": [
        "#prediction using test set\n",
        "score = model.evaluate(X_test, Y_test, verbose=0)\n",
        "print(f'accuracy score for the Cifar10 classification of the dataset is : {score[1]}')"
      ],
      "execution_count": null,
      "outputs": [
        {
          "output_type": "stream",
          "text": [
            "accuracy score for the Cifar10 classification of the dataset is : 0.7580999732017517\n"
          ],
          "name": "stdout"
        }
      ]
    },
    {
      "cell_type": "markdown",
      "metadata": {
        "id": "OtYNkpspEsWc"
      },
      "source": [
        "We can notice the large gap in validation and training accuracy which indicates overfitting, to overcome this we can use various methods which includes regularization, dropout (used here) and fine tuning also in this case.  In the next practical we have described the advantages of using pre-trained model."
      ]
    },
    {
      "cell_type": "code",
      "metadata": {
        "id": "uW5mYnnp1tW2"
      },
      "source": [
        ""
      ],
      "execution_count": null,
      "outputs": []
    }
  ]
}