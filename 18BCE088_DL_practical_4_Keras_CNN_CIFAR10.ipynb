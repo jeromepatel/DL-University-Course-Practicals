{
  "nbformat": 4,
  "nbformat_minor": 0,
  "metadata": {
    "colab": {
      "name": "18BCE088_DL_practical_4_Keras_CNN_CIFAR10.ipynb",
      "provenance": [],
      "collapsed_sections": [],
      "authorship_tag": "ABX9TyMni76fZFrmDqp0Uqf9xRG2",
      "include_colab_link": true
    },
    "kernelspec": {
      "name": "python3",
      "display_name": "Python 3"
    },
    "accelerator": "GPU"
  },
  "cells": [
    {
      "cell_type": "markdown",
      "metadata": {
        "id": "view-in-github",
        "colab_type": "text"
      },
      "source": [
        "<a href=\"https://colab.research.google.com/github/jeromepatel/DL-University-Course-Practicals/blob/master/18BCE088_DL_practical_4_Keras_CNN_CIFAR10.ipynb\" target=\"_parent\"><img src=\"https://colab.research.google.com/assets/colab-badge.svg\" alt=\"Open In Colab\"/></a>"
      ]
    },
    {
      "cell_type": "code",
      "metadata": {
        "colab": {
          "base_uri": "https://localhost:8080/"
        },
        "id": "i639en4qDfRc",
        "outputId": "d1959a11-077a-46de-d45f-351cc2d77e95"
      },
      "source": [
        "!nvidia-smi"
      ],
      "execution_count": null,
      "outputs": [
        {
          "output_type": "stream",
          "text": [
            "Wed Feb 24 08:28:21 2021       \n",
            "+-----------------------------------------------------------------------------+\n",
            "| NVIDIA-SMI 460.39       Driver Version: 460.32.03    CUDA Version: 11.2     |\n",
            "|-------------------------------+----------------------+----------------------+\n",
            "| GPU  Name        Persistence-M| Bus-Id        Disp.A | Volatile Uncorr. ECC |\n",
            "| Fan  Temp  Perf  Pwr:Usage/Cap|         Memory-Usage | GPU-Util  Compute M. |\n",
            "|                               |                      |               MIG M. |\n",
            "|===============================+======================+======================|\n",
            "|   0  Tesla T4            Off  | 00000000:00:04.0 Off |                    0 |\n",
            "| N/A   56C    P8     9W /  70W |      0MiB / 15109MiB |      0%      Default |\n",
            "|                               |                      |                  N/A |\n",
            "+-------------------------------+----------------------+----------------------+\n",
            "                                                                               \n",
            "+-----------------------------------------------------------------------------+\n",
            "| Processes:                                                                  |\n",
            "|  GPU   GI   CI        PID   Type   Process name                  GPU Memory |\n",
            "|        ID   ID                                                   Usage      |\n",
            "|=============================================================================|\n",
            "|  No running processes found                                                 |\n",
            "+-----------------------------------------------------------------------------+\n"
          ],
          "name": "stdout"
        }
      ]
    },
    {
      "cell_type": "code",
      "metadata": {
        "id": "APkzikOPz01t"
      },
      "source": [
        "\r\n",
        "#importing libraries\r\n",
        "from keras.datasets.cifar10 import load_data\r\n",
        "from matplotlib import pyplot\r\n",
        "from tensorflow import keras\r\n",
        "from sklearn.metrics import accuracy_score,confusion_matrix,classification_report\r\n",
        "from keras.models import Sequential\r\n",
        "from keras.layers import Dense, Dropout, Flatten\r\n",
        "from keras.layers import Conv2D, MaxPool2D, BatchNormalization\r\n",
        "from keras import backend as K\r\n",
        "import tensorflow as tf\r\n",
        "from tensorflow.keras.optimizers import Adam\r\n",
        "import numpy as np\r\n",
        "batch_size = 512\r\n",
        "num_classes = 10\r\n",
        "epochs = 30\r\n"
      ],
      "execution_count": null,
      "outputs": []
    },
    {
      "cell_type": "code",
      "metadata": {
        "colab": {
          "base_uri": "https://localhost:8080/",
          "height": 36
        },
        "id": "laiV5b0yFNe_",
        "outputId": "5893ca4a-55f5-4b69-f810-e5dd70d1e628"
      },
      "source": [
        "tf.test.gpu_device_name()"
      ],
      "execution_count": null,
      "outputs": [
        {
          "output_type": "execute_result",
          "data": {
            "application/vnd.google.colaboratory.intrinsic+json": {
              "type": "string"
            },
            "text/plain": [
              "'/device:GPU:0'"
            ]
          },
          "metadata": {
            "tags": []
          },
          "execution_count": 3
        }
      ]
    },
    {
      "cell_type": "code",
      "metadata": {
        "colab": {
          "base_uri": "https://localhost:8080/"
        },
        "id": "Y_-E88WA0Vrq",
        "outputId": "ffcc3a85-faca-4bc1-a832-d8d344aa30ef"
      },
      "source": [
        "(X_train, Y_train), (X_test, Y_test) = load_data()\r\n",
        "X_train.shape, X_test.shape"
      ],
      "execution_count": null,
      "outputs": [
        {
          "output_type": "stream",
          "text": [
            "Downloading data from https://www.cs.toronto.edu/~kriz/cifar-10-python.tar.gz\n",
            "170500096/170498071 [==============================] - 2s 0us/step\n"
          ],
          "name": "stdout"
        },
        {
          "output_type": "execute_result",
          "data": {
            "text/plain": [
              "((50000, 32, 32, 3), (10000, 32, 32, 3))"
            ]
          },
          "metadata": {
            "tags": []
          },
          "execution_count": 4
        }
      ]
    },
    {
      "cell_type": "code",
      "metadata": {
        "id": "L5ZJXZqo0WcD",
        "cellView": "form"
      },
      "source": [
        "#@title Reshaping, Unnecessary for this pract\n",
        "#no need to reshape as we are working with cnn\n",
        "# X_train = X_train.reshape(X_train.shape[0], X_train.shape[1] * X_train.shape[2])\n",
        "\n",
        "# X_test = X_test.reshape(X_test.shape[0], X_test.shape[1] * X_test.shape[2])\n",
        "# X_train.shape, X_test.shape"
      ],
      "execution_count": null,
      "outputs": []
    },
    {
      "cell_type": "code",
      "metadata": {
        "id": "-P7Lj2tZ048P",
        "cellView": "form"
      },
      "source": [
        "#@title Changing channel n dim (again not required)\n",
        "# input image dimensions\n",
        "# img_rows, img_cols = 32, 32\n",
        "# if K.image_data_format() == 'channels_first':\n",
        "#     X_train = X_train.reshape(X_train.shape[0], 3, img_rows, img_cols)\n",
        "#     X_test = X_test.reshape(X_test.shape[0], 3, img_rows, img_cols)\n",
        "#     input_shape = (3, img_rows, img_cols)\n",
        "# else:\n",
        "#     X_train = X_train.reshape(X_train.shape[0], img_rows, img_cols, 3)\n",
        "#     X_test = X_test.reshape(X_test.shape[0], img_rows, img_cols, 3)\n",
        "#     input_shape = (img_rows, img_cols, 3)\n",
        "\n"
      ],
      "execution_count": null,
      "outputs": []
    },
    {
      "cell_type": "code",
      "metadata": {
        "colab": {
          "base_uri": "https://localhost:8080/"
        },
        "id": "4MJPL27g69rw",
        "outputId": "273ddcd3-6069-43be-88fb-2bcd6d565ae3"
      },
      "source": [
        "X_train = X_train/255   #in range (0,1) now \r\n",
        "X_test = X_test/255\r\n",
        "print(X_train[0].shape)\r\n",
        "Y_train[0]"
      ],
      "execution_count": null,
      "outputs": [
        {
          "output_type": "stream",
          "text": [
            "(32, 32, 3)\n"
          ],
          "name": "stdout"
        },
        {
          "output_type": "execute_result",
          "data": {
            "text/plain": [
              "array([6], dtype=uint8)"
            ]
          },
          "metadata": {
            "tags": []
          },
          "execution_count": 5
        }
      ]
    },
    {
      "cell_type": "code",
      "metadata": {
        "id": "rTTWWx8Yzp6_"
      },
      "source": [
        "img_rows, img_cols = 32, 32\r\n",
        "y_train,y_test = Y_train,Y_test\r\n",
        "input_shape = (img_rows, img_cols, 3)\r\n",
        "# convert class vectors to binary class matrices\r\n",
        "Y_train = tf.keras.utils.to_categorical(Y_train, num_classes)\r\n",
        "Y_test = tf.keras.utils.to_categorical(Y_test, num_classes)"
      ],
      "execution_count": null,
      "outputs": []
    },
    {
      "cell_type": "code",
      "metadata": {
        "id": "WjyqSSl-07L1"
      },
      "source": [
        "model = Sequential()\r\n",
        "model.add(Conv2D(32, kernel_size=(3, 3),strides = (1,1),padding = 'same',activation='relu',input_shape=input_shape))\r\n",
        "model.add(Dropout(rate=0.3))\r\n",
        "model.add(Conv2D(filters=32, kernel_size=(3,3), strides=1, padding='same', activation='relu'))\r\n",
        "model.add(BatchNormalization())\r\n",
        "model.add(Conv2D(filters=64, kernel_size=(3,3), strides=1, padding='same', activation='relu'))\r\n",
        "model.add(Dropout(rate=0.3))\r\n",
        "model.add(MaxPool2D(pool_size=(2,2), strides=2))\r\n",
        "model.add(Conv2D(filters=128, kernel_size=(3,3), strides=1, padding='same', activation='relu'))\r\n",
        "model.add(BatchNormalization())\r\n",
        "model.add(Conv2D(filters=128, kernel_size=(3,3), strides=1, padding='same', activation='relu'))\r\n",
        "model.add(Dropout(rate=0.4))\r\n",
        "model.add(MaxPool2D(pool_size=(2,2), strides=2))\r\n",
        "model.add(Conv2D(filters=264, kernel_size=(3,3), strides=1, padding='same', activation='relu'))\r\n",
        "model.add(BatchNormalization())\r\n",
        "model.add(MaxPool2D(pool_size=(2,2), strides=2))\r\n",
        "model.add(Flatten())\r\n",
        "model.add(Dropout(rate=0.4))\r\n",
        "model.add(Dense(units=128, activation='relu'))\r\n",
        "model.add(Dropout(rate=0.3))\r\n",
        "model.add(Dense(units=num_classes, activation='softmax'))"
      ],
      "execution_count": null,
      "outputs": []
    },
    {
      "cell_type": "code",
      "metadata": {
        "colab": {
          "base_uri": "https://localhost:8080/"
        },
        "id": "3021JHOG9dc_",
        "outputId": "7dbe2f6b-5a16-49e8-d205-f5e8e6154187"
      },
      "source": [
        "model.summary()"
      ],
      "execution_count": null,
      "outputs": [
        {
          "output_type": "stream",
          "text": [
            "Model: \"sequential_1\"\n",
            "_________________________________________________________________\n",
            "Layer (type)                 Output Shape              Param #   \n",
            "=================================================================\n",
            "conv2d_6 (Conv2D)            (None, 32, 32, 32)        896       \n",
            "_________________________________________________________________\n",
            "dropout_5 (Dropout)          (None, 32, 32, 32)        0         \n",
            "_________________________________________________________________\n",
            "conv2d_7 (Conv2D)            (None, 32, 32, 32)        9248      \n",
            "_________________________________________________________________\n",
            "batch_normalization_3 (Batch (None, 32, 32, 32)        128       \n",
            "_________________________________________________________________\n",
            "conv2d_8 (Conv2D)            (None, 32, 32, 64)        18496     \n",
            "_________________________________________________________________\n",
            "dropout_6 (Dropout)          (None, 32, 32, 64)        0         \n",
            "_________________________________________________________________\n",
            "max_pooling2d_3 (MaxPooling2 (None, 16, 16, 64)        0         \n",
            "_________________________________________________________________\n",
            "conv2d_9 (Conv2D)            (None, 16, 16, 128)       73856     \n",
            "_________________________________________________________________\n",
            "batch_normalization_4 (Batch (None, 16, 16, 128)       512       \n",
            "_________________________________________________________________\n",
            "conv2d_10 (Conv2D)           (None, 16, 16, 128)       147584    \n",
            "_________________________________________________________________\n",
            "dropout_7 (Dropout)          (None, 16, 16, 128)       0         \n",
            "_________________________________________________________________\n",
            "max_pooling2d_4 (MaxPooling2 (None, 8, 8, 128)         0         \n",
            "_________________________________________________________________\n",
            "conv2d_11 (Conv2D)           (None, 8, 8, 264)         304392    \n",
            "_________________________________________________________________\n",
            "batch_normalization_5 (Batch (None, 8, 8, 264)         1056      \n",
            "_________________________________________________________________\n",
            "max_pooling2d_5 (MaxPooling2 (None, 4, 4, 264)         0         \n",
            "_________________________________________________________________\n",
            "flatten_1 (Flatten)          (None, 4224)              0         \n",
            "_________________________________________________________________\n",
            "dropout_8 (Dropout)          (None, 4224)              0         \n",
            "_________________________________________________________________\n",
            "dense_2 (Dense)              (None, 128)               540800    \n",
            "_________________________________________________________________\n",
            "dropout_9 (Dropout)          (None, 128)               0         \n",
            "_________________________________________________________________\n",
            "dense_3 (Dense)              (None, 10)                1290      \n",
            "=================================================================\n",
            "Total params: 1,098,258\n",
            "Trainable params: 1,097,410\n",
            "Non-trainable params: 848\n",
            "_________________________________________________________________\n"
          ],
          "name": "stdout"
        }
      ]
    },
    {
      "cell_type": "code",
      "metadata": {
        "id": "32LvPMzB1HIo"
      },
      "source": [
        "model.compile(Adam(lr = 0.001),\r\n",
        "              loss = 'categorical_crossentropy',\r\n",
        "              metrics = ['accuracy'])"
      ],
      "execution_count": null,
      "outputs": []
    },
    {
      "cell_type": "code",
      "metadata": {
        "colab": {
          "base_uri": "https://localhost:8080/"
        },
        "id": "q50njXdb1Kxj",
        "outputId": "3dceb1bd-e65a-4ef7-a738-6d56b6643e4c"
      },
      "source": [
        "%%time\r\n",
        "training_history = None\r\n",
        "try:\r\n",
        "   training_history =  model.fit(\r\n",
        "    X_train,\r\n",
        "        Y_train,\r\n",
        "        validation_data = (X_test,Y_test),\r\n",
        "        batch_size = batch_size,\r\n",
        "        epochs = epochs,\r\n",
        "        shuffle = True,\r\n",
        "        verbose = 1\r\n",
        "    )\r\n",
        "except KeyboardInterrupt as e:\r\n",
        "    print(\"\\njust wait to complete training!!\\n\")"
      ],
      "execution_count": null,
      "outputs": [
        {
          "output_type": "stream",
          "text": [
            "Epoch 1/15\n",
            "98/98 [==============================] - 21s 210ms/step - loss: 2.6676 - accuracy: 0.2229 - val_loss: 8.3864 - val_accuracy: 0.1000\n",
            "Epoch 2/15\n",
            "98/98 [==============================] - 20s 204ms/step - loss: 1.6702 - accuracy: 0.3972 - val_loss: 5.6815 - val_accuracy: 0.1667\n",
            "Epoch 3/15\n",
            "98/98 [==============================] - 20s 204ms/step - loss: 1.4105 - accuracy: 0.4947 - val_loss: 3.5466 - val_accuracy: 0.1475\n",
            "Epoch 4/15\n",
            "98/98 [==============================] - 20s 204ms/step - loss: 1.2255 - accuracy: 0.5640 - val_loss: 3.8609 - val_accuracy: 0.1824\n",
            "Epoch 5/15\n",
            "98/98 [==============================] - 20s 204ms/step - loss: 1.0817 - accuracy: 0.6153 - val_loss: 3.9945 - val_accuracy: 0.1901\n",
            "Epoch 6/15\n",
            "98/98 [==============================] - 20s 204ms/step - loss: 0.9698 - accuracy: 0.6591 - val_loss: 2.6545 - val_accuracy: 0.3468\n",
            "Epoch 7/15\n",
            "98/98 [==============================] - 20s 204ms/step - loss: 0.8909 - accuracy: 0.6878 - val_loss: 2.3179 - val_accuracy: 0.4439\n",
            "Epoch 8/15\n",
            "98/98 [==============================] - 20s 204ms/step - loss: 0.8163 - accuracy: 0.7114 - val_loss: 1.3304 - val_accuracy: 0.5779\n",
            "Epoch 9/15\n",
            "98/98 [==============================] - 20s 204ms/step - loss: 0.7507 - accuracy: 0.7356 - val_loss: 1.2212 - val_accuracy: 0.6324\n",
            "Epoch 10/15\n",
            "98/98 [==============================] - 20s 203ms/step - loss: 0.7016 - accuracy: 0.7551 - val_loss: 1.2610 - val_accuracy: 0.6185\n",
            "Epoch 11/15\n",
            "98/98 [==============================] - 20s 203ms/step - loss: 0.6564 - accuracy: 0.7730 - val_loss: 1.1176 - val_accuracy: 0.6595\n",
            "Epoch 12/15\n",
            "98/98 [==============================] - 20s 204ms/step - loss: 0.6238 - accuracy: 0.7827 - val_loss: 1.0162 - val_accuracy: 0.6899\n",
            "Epoch 13/15\n",
            "98/98 [==============================] - 20s 203ms/step - loss: 0.5871 - accuracy: 0.7957 - val_loss: 1.2728 - val_accuracy: 0.6532\n",
            "Epoch 14/15\n",
            "98/98 [==============================] - 20s 203ms/step - loss: 0.5505 - accuracy: 0.8086 - val_loss: 1.0102 - val_accuracy: 0.7092\n",
            "Epoch 15/15\n",
            "98/98 [==============================] - 20s 204ms/step - loss: 0.5218 - accuracy: 0.8171 - val_loss: 1.0504 - val_accuracy: 0.7120\n",
            "CPU times: user 2min 1s, sys: 1min 28s, total: 3min 29s\n",
            "Wall time: 5min 1s\n"
          ],
          "name": "stdout"
        }
      ]
    },
    {
      "cell_type": "code",
      "metadata": {
        "colab": {
          "base_uri": "https://localhost:8080/"
        },
        "id": "ieeXkdaE1fBm",
        "outputId": "6d7cd16b-f36a-4421-bd4f-06cba6bf3cb2"
      },
      "source": [
        "#prediction using test set\r\n",
        "score = model.evaluate(X_test, Y_test, verbose=0)\r\n",
        "print(f'accuracy score for the Cifar10 classification of the dataset is : {score[1]}')"
      ],
      "execution_count": null,
      "outputs": [
        {
          "output_type": "stream",
          "text": [
            "accuracy score for the Cifar10 classification of the dataset is : 0.7580999732017517\n"
          ],
          "name": "stdout"
        }
      ]
    },
    {
      "cell_type": "code",
      "metadata": {
        "id": "uW5mYnnp1tW2"
      },
      "source": [
        ""
      ],
      "execution_count": null,
      "outputs": []
    }
  ]
}