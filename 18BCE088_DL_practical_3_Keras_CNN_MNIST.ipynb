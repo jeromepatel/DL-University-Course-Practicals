{
  "nbformat": 4,
  "nbformat_minor": 0,
  "metadata": {
    "accelerator": "GPU",
    "colab": {
      "name": "18BCE088_DL_practical_3_Keras_CNN_MNIST.ipynb",
      "provenance": [],
      "collapsed_sections": [],
      "authorship_tag": "ABX9TyN+tz73MFjdetMPQPn3Az5A",
      "include_colab_link": true
    },
    "kernelspec": {
      "display_name": "Python 3",
      "name": "python3"
    }
  },
  "cells": [
    {
      "cell_type": "markdown",
      "metadata": {
        "id": "view-in-github",
        "colab_type": "text"
      },
      "source": [
        "<a href=\"https://colab.research.google.com/github/jeromepatel/DL-University-Course-Practicals/blob/master/18BCE088_DL_practical_3_Keras_CNN_MNIST.ipynb\" target=\"_parent\"><img src=\"https://colab.research.google.com/assets/colab-badge.svg\" alt=\"Open In Colab\"/></a>"
      ]
    },
    {
      "cell_type": "code",
      "metadata": {
        "id": "APkzikOPz01t"
      },
      "source": [
        "\r\n",
        "#importing libraries\r\n",
        "from keras.datasets.mnist import load_data\r\n",
        "from matplotlib import pyplot\r\n",
        "from tensorflow import keras\r\n",
        "from sklearn.metrics import accuracy_score,confusion_matrix,classification_report\r\n",
        "from keras.models import Sequential\r\n",
        "from keras.layers import Dense, Dropout, Flatten\r\n",
        "from keras.layers import Conv2D, MaxPooling2D\r\n",
        "from keras import backend as K\r\n",
        "import tensorflow as tf\r\n",
        "from tensorflow.keras.optimizers import Adam\r\n",
        "import numpy as np\r\n",
        "batch_size = 512\r\n",
        "num_classes = 10\r\n",
        "epochs = 12\r\n"
      ],
      "execution_count": null,
      "outputs": []
    },
    {
      "cell_type": "code",
      "metadata": {
        "colab": {
          "base_uri": "https://localhost:8080/"
        },
        "id": "Y_-E88WA0Vrq",
        "outputId": "44375a4b-c8da-4cbd-9769-3fbfc464f786"
      },
      "source": [
        "(X_train, Y_train), (X_test, Y_test) = load_data()\r\n",
        "X_train.shape, X_test.shape"
      ],
      "execution_count": null,
      "outputs": [
        {
          "output_type": "stream",
          "text": [
            "Downloading data from https://storage.googleapis.com/tensorflow/tf-keras-datasets/mnist.npz\n",
            "11493376/11490434 [==============================] - 0s 0us/step\n"
          ],
          "name": "stdout"
        },
        {
          "output_type": "execute_result",
          "data": {
            "text/plain": [
              "((60000, 28, 28), (10000, 28, 28))"
            ]
          },
          "metadata": {
            "tags": []
          },
          "execution_count": 3
        }
      ]
    },
    {
      "cell_type": "code",
      "metadata": {
        "id": "L5ZJXZqo0WcD"
      },
      "source": [
        "#no need to reshape as we are working with cnn\r\n",
        "# X_train = X_train.reshape(X_train.shape[0], X_train.shape[1] * X_train.shape[2])\r\n",
        "\r\n",
        "# X_test = X_test.reshape(X_test.shape[0], X_test.shape[1] * X_test.shape[2])\r\n",
        "# X_train.shape, X_test.shape"
      ],
      "execution_count": null,
      "outputs": []
    },
    {
      "cell_type": "code",
      "metadata": {
        "id": "-P7Lj2tZ048P"
      },
      "source": [
        "# input image dimensions\r\n",
        "img_rows, img_cols = 28, 28\r\n",
        "if K.image_data_format() == 'channels_first':\r\n",
        "    X_train = X_train.reshape(X_train.shape[0], 1, img_rows, img_cols)\r\n",
        "    X_test = X_test.reshape(X_test.shape[0], 1, img_rows, img_cols)\r\n",
        "    input_shape = (1, img_rows, img_cols)\r\n",
        "else:\r\n",
        "    X_train = X_train.reshape(X_train.shape[0], img_rows, img_cols, 1)\r\n",
        "    X_test = X_test.reshape(X_test.shape[0], img_rows, img_cols, 1)\r\n",
        "    input_shape = (img_rows, img_cols, 1)\r\n",
        "\r\n",
        "X_train = X_train/255   #in range (0,1) now \r\n",
        "X_test = X_test/255"
      ],
      "execution_count": null,
      "outputs": []
    },
    {
      "cell_type": "code",
      "metadata": {
        "id": "rTTWWx8Yzp6_"
      },
      "source": [
        "y_train,y_test = Y_train,Y_test\r\n",
        "# convert class vectors to binary class matrices\r\n",
        "Y_train = tf.keras.utils.to_categorical(Y_train, num_classes)\r\n",
        "Y_test = tf.keras.utils.to_categorical(Y_test, num_classes)"
      ],
      "execution_count": null,
      "outputs": []
    },
    {
      "cell_type": "code",
      "metadata": {
        "id": "WjyqSSl-07L1"
      },
      "source": [
        "\r\n",
        "model = Sequential()\r\n",
        "model.add(Conv2D(32, kernel_size=(3, 3),activation='relu',input_shape=input_shape))\r\n",
        "model.add(Conv2D(64, (3, 3), activation='relu'))\r\n",
        "model.add(MaxPooling2D(pool_size=(2, 2)))\r\n",
        "model.add(Dropout(0.25))\r\n",
        "model.add(Flatten())\r\n",
        "model.add(Dense(128, activation='relu'))\r\n",
        "model.add(Dropout(0.5))\r\n",
        "model.add(Dense(num_classes, activation='softmax'))"
      ],
      "execution_count": null,
      "outputs": []
    },
    {
      "cell_type": "code",
      "metadata": {
        "id": "32LvPMzB1HIo"
      },
      "source": [
        "model.compile(Adam(lr = 0.003),\r\n",
        "              loss = 'categorical_crossentropy',\r\n",
        "              metrics = ['accuracy'])"
      ],
      "execution_count": null,
      "outputs": []
    },
    {
      "cell_type": "code",
      "metadata": {
        "colab": {
          "background_save": true,
          "base_uri": "https://localhost:8080/"
        },
        "id": "q50njXdb1Kxj",
        "outputId": "1291cbf8-d291-4633-f44d-e0ae798d90f2"
      },
      "source": [
        "model.fit(\r\n",
        "X_train,\r\n",
        "    Y_train,\r\n",
        "    batch_size = batch_size,\r\n",
        "    epochs = epochs,\r\n",
        "    shuffle = True,\r\n",
        "    verbose = 1\r\n",
        ")"
      ],
      "execution_count": null,
      "outputs": [
        {
          "output_type": "stream",
          "text": [
            "Epoch 1/12\n",
            "469/469 [==============================] - 132s 279ms/step - loss: 2.3022 - accuracy: 0.1092\n",
            "Epoch 2/12\n",
            "469/469 [==============================] - 137s 292ms/step - loss: 2.3016 - accuracy: 0.1095\n",
            "Epoch 3/12\n",
            "469/469 [==============================] - 131s 279ms/step - loss: 2.3012 - accuracy: 0.1137\n",
            "Epoch 4/12\n",
            "469/469 [==============================] - 131s 279ms/step - loss: 2.3016 - accuracy: 0.1103\n",
            "Epoch 5/12\n",
            "469/469 [==============================] - 131s 279ms/step - loss: 2.3017 - accuracy: 0.1094\n",
            "Epoch 6/12\n",
            "469/469 [==============================] - 131s 279ms/step - loss: 2.3015 - accuracy: 0.1136\n",
            "Epoch 7/12\n",
            "469/469 [==============================] - 131s 280ms/step - loss: 2.3011 - accuracy: 0.1140\n",
            "Epoch 8/12\n",
            "469/469 [==============================] - 132s 281ms/step - loss: 2.3014 - accuracy: 0.1142\n",
            "Epoch 9/12\n",
            "469/469 [==============================] - 133s 283ms/step - loss: 2.3011 - accuracy: 0.1132\n",
            "Epoch 10/12\n",
            "469/469 [==============================] - 132s 281ms/step - loss: 2.3009 - accuracy: 0.1136\n",
            "Epoch 11/12\n",
            "469/469 [==============================] - 131s 280ms/step - loss: 2.3015 - accuracy: 0.1106\n",
            "Epoch 12/12\n",
            "469/469 [==============================] - 131s 280ms/step - loss: 2.3015 - accuracy: 0.1115\n"
          ],
          "name": "stdout"
        },
        {
          "output_type": "execute_result",
          "data": {
            "text/plain": [
              "<tensorflow.python.keras.callbacks.History at 0x7f8e90640320>"
            ]
          },
          "metadata": {
            "tags": []
          },
          "execution_count": 0
        }
      ]
    },
    {
      "cell_type": "code",
      "metadata": {
        "colab": {
          "base_uri": "https://localhost:8080/"
        },
        "id": "ieeXkdaE1fBm",
        "outputId": "7c6a0a94-00ad-4abd-96d3-87d5a5a372ee"
      },
      "source": [
        "#prediction using test set\r\n",
        "score = model.evaluate(X_test, Y_test, verbose=0)\r\n",
        "print(f'accuracy score for the MNIST classification of the dataset is : {score[1]}')"
      ],
      "execution_count": null,
      "outputs": [
        {
          "output_type": "stream",
          "text": [
            "accuracy score for the MNIST classification of the dataset is : 0.9904000163078308\n"
          ],
          "name": "stdout"
        }
      ]
    },
    {
      "cell_type": "code",
      "metadata": {
        "id": "uW5mYnnp1tW2"
      },
      "source": [
        ""
      ],
      "execution_count": null,
      "outputs": []
    }
  ]
}