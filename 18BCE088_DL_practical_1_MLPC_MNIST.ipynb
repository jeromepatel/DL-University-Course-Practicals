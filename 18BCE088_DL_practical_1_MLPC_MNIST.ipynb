{
  "nbformat": 4,
  "nbformat_minor": 0,
  "metadata": {
    "colab": {
      "name": "18BCE088_DL_practical_1_MLPC_MNIST.ipynb",
      "provenance": [],
      "collapsed_sections": [],
      "authorship_tag": "ABX9TyMhe8mdqlGv4bL1EnZXZnV6",
      "include_colab_link": true
    },
    "kernelspec": {
      "display_name": "Python 3",
      "name": "python3"
    }
  },
  "cells": [
    {
      "cell_type": "markdown",
      "metadata": {
        "id": "view-in-github",
        "colab_type": "text"
      },
      "source": [
        "<a href=\"https://colab.research.google.com/github/jeromepatel/DL-University-Course-Practicals/blob/master/18BCE088_DL_practical_1_MLPC_MNIST.ipynb\" target=\"_parent\"><img src=\"https://colab.research.google.com/assets/colab-badge.svg\" alt=\"Open In Colab\"/></a>"
      ]
    },
    {
      "cell_type": "markdown",
      "metadata": {
        "id": "1nkJK_cfskw_"
      },
      "source": [
        "# MLP Classifier for MNIST dataset using Sklearn"
      ]
    },
    {
      "cell_type": "code",
      "metadata": {
        "id": "rfzKm9q2sTg5"
      },
      "source": [
        "#importing libraries\r\n",
        "from keras.datasets.mnist import load_data\r\n",
        "from matplotlib import pyplot\r\n",
        "from sklearn.neural_network import MLPClassifier\r\n",
        "from sklearn.metrics import accuracy_score,confusion_matrix,classification_report"
      ],
      "execution_count": null,
      "outputs": []
    },
    {
      "cell_type": "code",
      "metadata": {
        "colab": {
          "base_uri": "https://localhost:8080/"
        },
        "id": "wahLrpZxskWy",
        "outputId": "b4b06fd7-fc5e-466d-a95b-05c0a11306dc"
      },
      "source": [
        "(X_train, Y_train), (X_test, Y_test) = load_data()\r\n",
        "X_train.shape, X_test.shape"
      ],
      "execution_count": null,
      "outputs": [
        {
          "output_type": "execute_result",
          "data": {
            "text/plain": [
              "((60000, 28, 28), (10000, 28, 28))"
            ]
          },
          "metadata": {
            "tags": []
          },
          "execution_count": 6
        }
      ]
    },
    {
      "cell_type": "code",
      "metadata": {
        "colab": {
          "base_uri": "https://localhost:8080/"
        },
        "id": "WwBRBYQatsqY",
        "outputId": "517c559e-8885-47df-bd3e-763126e08f98"
      },
      "source": [
        "#reshaping to training and test set for sequential input \r\n",
        "X_train = X_train.reshape(X_train.shape[0], X_train.shape[1] * X_train.shape[2])\r\n",
        "\r\n",
        "X_test = X_test.reshape(X_test.shape[0], X_test.shape[1] * X_test.shape[2])\r\n",
        "X_train.shape, X_test.shape"
      ],
      "execution_count": null,
      "outputs": [
        {
          "output_type": "execute_result",
          "data": {
            "text/plain": [
              "((60000, 784), (10000, 784))"
            ]
          },
          "metadata": {
            "tags": []
          },
          "execution_count": 7
        }
      ]
    },
    {
      "cell_type": "code",
      "metadata": {
        "id": "3Y2c39nHtx8J"
      },
      "source": [
        "# X_train = (X_train - 127.5)/127.5  #getting image in range of [-1,1] for train set \r\n",
        "# X_test = (X_test - 127.5)/127.5  #getting in range of [-1,1] for test set \r\n",
        "\r\n",
        "X_train = X_train/255   #in range (0,1) now \r\n",
        "X_test = X_test/255"
      ],
      "execution_count": null,
      "outputs": []
    },
    {
      "cell_type": "code",
      "metadata": {
        "colab": {
          "base_uri": "https://localhost:8080/"
        },
        "id": "87EIe4P0uz5g",
        "outputId": "c16b56f6-7161-40b5-c023-a8bf24424fcb"
      },
      "source": [
        "#classifying using MLP Classifier \r\n",
        "# clf = MLPClassifier(hidden_layer_sizes=(392,), max_iter=10, alpha=7e-4,\r\n",
        "#                     solver='sgd',learning_rate='adaptive', verbose=10, random_state=2,\r\n",
        "#                     learning_rate_init=.03)\r\n",
        "clf = MLPClassifier(hidden_layer_sizes=(392,50),solver='adam',learning_rate='adaptive',alpha= 3e-4, random_state=2, max_iter=10, verbose = True)\r\n",
        "#training on training dataset\r\n",
        "clf.fit(X_train, Y_train)\r\n"
      ],
      "execution_count": null,
      "outputs": [
        {
          "output_type": "stream",
          "text": [
            "Iteration 1, loss = 0.30470271\n",
            "Iteration 2, loss = 0.11279152\n",
            "Iteration 3, loss = 0.07472919\n",
            "Iteration 4, loss = 0.05499526\n",
            "Iteration 5, loss = 0.03860631\n",
            "Iteration 6, loss = 0.03014604\n",
            "Iteration 7, loss = 0.02117879\n",
            "Iteration 8, loss = 0.01613411\n",
            "Iteration 9, loss = 0.01390404\n",
            "Iteration 10, loss = 0.01160031\n"
          ],
          "name": "stdout"
        },
        {
          "output_type": "stream",
          "text": [
            "/usr/local/lib/python3.6/dist-packages/sklearn/neural_network/_multilayer_perceptron.py:571: ConvergenceWarning: Stochastic Optimizer: Maximum iterations (10) reached and the optimization hasn't converged yet.\n",
            "  % self.max_iter, ConvergenceWarning)\n"
          ],
          "name": "stderr"
        },
        {
          "output_type": "execute_result",
          "data": {
            "text/plain": [
              "MLPClassifier(activation='relu', alpha=0.0003, batch_size='auto', beta_1=0.9,\n",
              "              beta_2=0.999, early_stopping=False, epsilon=1e-08,\n",
              "              hidden_layer_sizes=(392, 50), learning_rate='adaptive',\n",
              "              learning_rate_init=0.001, max_fun=15000, max_iter=10,\n",
              "              momentum=0.9, n_iter_no_change=10, nesterovs_momentum=True,\n",
              "              power_t=0.5, random_state=2, shuffle=True, solver='adam',\n",
              "              tol=0.0001, validation_fraction=0.1, verbose=True,\n",
              "              warm_start=False)"
            ]
          },
          "metadata": {
            "tags": []
          },
          "execution_count": 14
        }
      ]
    },
    {
      "cell_type": "code",
      "metadata": {
        "colab": {
          "base_uri": "https://localhost:8080/"
        },
        "id": "1T4YuquOwLBo",
        "outputId": "281148c6-ffc6-4f0a-d137-3d161f58a697"
      },
      "source": [
        "\r\n",
        "#prediction using test set\r\n",
        "preds = clf.predict(X_test)\r\n",
        "score = accuracy_score(preds, Y_test)\r\n",
        "print(f'accuracy score for the MNIST classification of the dataset is : {score}')"
      ],
      "execution_count": null,
      "outputs": [
        {
          "output_type": "stream",
          "text": [
            "accuracy score for the MNIST classification of the dataset is : 0.9808\n"
          ],
          "name": "stdout"
        }
      ]
    },
    {
      "cell_type": "code",
      "metadata": {
        "colab": {
          "base_uri": "https://localhost:8080/"
        },
        "id": "JvZZyAHywPeP",
        "outputId": "6733ae4c-5ea0-4938-d6c7-ab385f1facea"
      },
      "source": [
        "print(f\"confusion matrix is \\n{confusion_matrix(preds,Y_test)}\\n and classification report is \\n{classification_report(preds,Y_test)}\")"
      ],
      "execution_count": null,
      "outputs": [
        {
          "output_type": "stream",
          "text": [
            "confusion matrix is \n",
            "[[ 960    0    3    0    3    3    4    1    0    1]\n",
            " [   0 1124    2    0    0    0    2    5    0    2]\n",
            " [   1    0  987    2    1    0    1    8    0    0]\n",
            " [   0    1   11  985    0    8    1    5    2    6]\n",
            " [   0    0    2    0  944    0    1    1    3    4]\n",
            " [   3    0    0    7    3  876   10    0    3    7]\n",
            " [   5    2    1    0    7    2  936    1    2    2]\n",
            " [   1    0    4    1    2    0    0  977    0    1]\n",
            " [   7    8   21    9    3    1    3   13  963    7]\n",
            " [   3    0    1    6   19    2    0   17    1  979]]\n",
            " and classification report is \n",
            "              precision    recall  f1-score   support\n",
            "\n",
            "           0       0.98      0.98      0.98       975\n",
            "           1       0.99      0.99      0.99      1135\n",
            "           2       0.96      0.99      0.97      1000\n",
            "           3       0.98      0.97      0.97      1019\n",
            "           4       0.96      0.99      0.97       955\n",
            "           5       0.98      0.96      0.97       909\n",
            "           6       0.98      0.98      0.98       958\n",
            "           7       0.95      0.99      0.97       986\n",
            "           8       0.99      0.93      0.96      1035\n",
            "           9       0.97      0.95      0.96      1028\n",
            "\n",
            "    accuracy                           0.97     10000\n",
            "   macro avg       0.97      0.97      0.97     10000\n",
            "weighted avg       0.97      0.97      0.97     10000\n",
            "\n"
          ],
          "name": "stdout"
        }
      ]
    },
    {
      "cell_type": "code",
      "metadata": {
        "id": "cdtL70tZyuYo"
      },
      "source": [
        ""
      ],
      "execution_count": null,
      "outputs": []
    }
  ]
}